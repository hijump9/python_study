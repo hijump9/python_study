{
 "cells": [
  {
   "cell_type": "markdown",
   "id": "b1ec7678",
   "metadata": {},
   "source": [
    "## 1. 기본 세팅"
   ]
  },
  {
   "cell_type": "code",
   "execution_count": 47,
   "id": "69797048",
   "metadata": {},
   "outputs": [],
   "source": [
    "import requests\n",
    "import bs4\n",
    "\n",
    "page_no = 1\n",
    "kospi_page_url = f\"https://finance.naver.com/sise/sise_index_day.naver?code=KOSPI&page={page_no}\"\n",
    "\n",
    "kospi_source = requests.get(kospi_page_url).text\n",
    "kospi_source = bs4.BeautifulSoup(kospi_source)\n",
    "\n",
    "kospi_last_url = kospi_source.find_all(\"td\", class_=\"pgRR\")[0].find_all(\"a\")[0][\"href\"]\n",
    "\n",
    "kospi_last_page = kospi_last_url.split('&page=')[-1]\n",
    "kospi_last_page = int(kospi_last_page)"
   ]
  },
  {
   "cell_type": "markdown",
   "id": "5a310c5b",
   "metadata": {},
   "source": [
    "## 2. 페이지 돌면서 날짜, 가격 정보 리스트 만들기"
   ]
  },
  {
   "cell_type": "code",
   "execution_count": 48,
   "id": "e4406495",
   "metadata": {},
   "outputs": [],
   "source": [
    "date_list = []\n",
    "price_list = []\n",
    "\n",
    "# last_page까지의 모든 페이지를 순회합니다.\n",
    "for page_no in range(1, kospi_last_page+1):\n",
    "\n",
    "    # 페이지 번호에 따라 새로운 URL을 구성하고 소스를 가져와야 합니다.\n",
    "    kospi_page_url = f\"https://finance.naver.com/sise/sise_index_day.naver?code=KOSPI&page={page_no}\"\n",
    "    kospi_source = requests.get(kospi_page_url).text\n",
    "    kospi_source = bs4.BeautifulSoup(kospi_source)\n",
    "\n",
    "    # 'date' 클래스를 가진 'td' 태그에서 날짜 정보를 찾아 리스트에 추가합니다.\n",
    "    dates = kospi_source.find_all(\"td\", class_=\"date\")\n",
    "    for date in dates:\n",
    "        date_list.append(date.text)\n",
    "    \n",
    "    # 'number_1' 클래스를 가진 'td' 태그에서 가격 정보를 찾습니다.\n",
    "    # 여기서 주가 정보는 'number_1' 클래스의 첫 번째 요소이므로, 이를 추출합니다.\n",
    "    prices = kospi_source.find_all(\"td\", class_=\"number_1\")\n",
    "    for price in prices[::4]:\n",
    "        price_list.append(price.text)\n"
   ]
  },
  {
   "cell_type": "code",
   "execution_count": 50,
   "id": "018d0274",
   "metadata": {},
   "outputs": [
    {
     "data": {
      "text/plain": [
       "8820"
      ]
     },
     "execution_count": 50,
     "metadata": {},
     "output_type": "execute_result"
    }
   ],
   "source": [
    "len(date_list)"
   ]
  },
  {
   "cell_type": "code",
   "execution_count": 51,
   "id": "63440fa4",
   "metadata": {},
   "outputs": [
    {
     "data": {
      "text/plain": [
       "8820"
      ]
     },
     "execution_count": 51,
     "metadata": {},
     "output_type": "execute_result"
    }
   ],
   "source": [
    "len(price_list)"
   ]
  },
  {
   "cell_type": "markdown",
   "id": "46747832",
   "metadata": {},
   "source": [
    "## 3. 날짜, 가격 리스트를 데이터프레임으로 만들기"
   ]
  },
  {
   "cell_type": "code",
   "execution_count": 52,
   "id": "a2dba83f",
   "metadata": {},
   "outputs": [
    {
     "data": {
      "text/html": [
       "<div>\n",
       "<style scoped>\n",
       "    .dataframe tbody tr th:only-of-type {\n",
       "        vertical-align: middle;\n",
       "    }\n",
       "\n",
       "    .dataframe tbody tr th {\n",
       "        vertical-align: top;\n",
       "    }\n",
       "\n",
       "    .dataframe thead th {\n",
       "        text-align: right;\n",
       "    }\n",
       "</style>\n",
       "<table border=\"1\" class=\"dataframe\">\n",
       "  <thead>\n",
       "    <tr style=\"text-align: right;\">\n",
       "      <th></th>\n",
       "      <th>date</th>\n",
       "      <th>price</th>\n",
       "    </tr>\n",
       "  </thead>\n",
       "  <tbody>\n",
       "    <tr>\n",
       "      <th>0</th>\n",
       "      <td>2024-01-12</td>\n",
       "      <td>2525.05</td>\n",
       "    </tr>\n",
       "    <tr>\n",
       "      <th>1</th>\n",
       "      <td>2024-01-11</td>\n",
       "      <td>2540.27</td>\n",
       "    </tr>\n",
       "    <tr>\n",
       "      <th>2</th>\n",
       "      <td>2024-01-10</td>\n",
       "      <td>2541.98</td>\n",
       "    </tr>\n",
       "    <tr>\n",
       "      <th>3</th>\n",
       "      <td>2024-01-09</td>\n",
       "      <td>2561.24</td>\n",
       "    </tr>\n",
       "    <tr>\n",
       "      <th>4</th>\n",
       "      <td>2024-01-08</td>\n",
       "      <td>2567.82</td>\n",
       "    </tr>\n",
       "    <tr>\n",
       "      <th>...</th>\n",
       "      <td>...</td>\n",
       "      <td>...</td>\n",
       "    </tr>\n",
       "    <tr>\n",
       "      <th>8815</th>\n",
       "      <td>1990-01-09</td>\n",
       "      <td>920.21</td>\n",
       "    </tr>\n",
       "    <tr>\n",
       "      <th>8816</th>\n",
       "      <td>1990-01-08</td>\n",
       "      <td>919.46</td>\n",
       "    </tr>\n",
       "    <tr>\n",
       "      <th>8817</th>\n",
       "      <td>1990-01-06</td>\n",
       "      <td>912.86</td>\n",
       "    </tr>\n",
       "    <tr>\n",
       "      <th>8818</th>\n",
       "      <td>1990-01-05</td>\n",
       "      <td>915.11</td>\n",
       "    </tr>\n",
       "    <tr>\n",
       "      <th>8819</th>\n",
       "      <td>1990-01-04</td>\n",
       "      <td>928.82</td>\n",
       "    </tr>\n",
       "  </tbody>\n",
       "</table>\n",
       "<p>8820 rows × 2 columns</p>\n",
       "</div>"
      ],
      "text/plain": [
       "           date    price\n",
       "0    2024-01-12  2525.05\n",
       "1    2024-01-11  2540.27\n",
       "2    2024-01-10  2541.98\n",
       "3    2024-01-09  2561.24\n",
       "4    2024-01-08  2567.82\n",
       "...         ...      ...\n",
       "8815 1990-01-09   920.21\n",
       "8816 1990-01-08   919.46\n",
       "8817 1990-01-06   912.86\n",
       "8818 1990-01-05   915.11\n",
       "8819 1990-01-04   928.82\n",
       "\n",
       "[8820 rows x 2 columns]"
      ]
     },
     "execution_count": 52,
     "metadata": {},
     "output_type": "execute_result"
    }
   ],
   "source": [
    "import pandas as pd\n",
    "\n",
    "df_kospi = pd.DataFrame({\"date\" : date_list,\n",
    "                  \"price\" : price_list}).dropna()\n",
    "    \n",
    "# 날짜 데이터 형식 변환\n",
    "df_kospi['date'] = pd.to_datetime(df_kospi['date'])\n",
    "\n",
    "# 가격 데이터 형식 변환\n",
    "df_kospi['price'] = df_kospi['price'].apply(lambda x: float(x.replace(\",\", \"\")))\n",
    "\n",
    "df_kospi"
   ]
  },
  {
   "cell_type": "code",
   "execution_count": 35,
   "id": "e6e818d7",
   "metadata": {},
   "outputs": [],
   "source": [
    "df_kospi.to_excel(\"210112_kospi.xlsx\", index=False)"
   ]
  },
  {
   "cell_type": "markdown",
   "id": "997bfeee",
   "metadata": {},
   "source": [
    "## S&P 500"
   ]
  },
  {
   "cell_type": "code",
   "execution_count": 57,
   "id": "3937938a",
   "metadata": {},
   "outputs": [
    {
     "name": "stdout",
     "output_type": "stream",
     "text": [
      "Collecting selenium\n",
      "  Downloading selenium-4.16.0-py3-none-any.whl (10.0 MB)\n",
      "     ---------------------------------------- 10.0/10.0 MB 2.6 MB/s eta 0:00:00\n",
      "Requirement already satisfied: urllib3[socks]<3,>=1.26 in c:\\users\\zkzk7\\onedrive - skku.edu\\장보경\\이어드림스쿨3기\\fullstack-gpt\\env\\lib\\site-packages (from selenium) (1.26.16)\n",
      "Collecting trio~=0.17\n",
      "  Downloading trio-0.24.0-py3-none-any.whl (460 kB)\n",
      "     ------------------------------------ 460.2/460.2 kB 600.0 kB/s eta 0:00:00\n",
      "Collecting trio-websocket~=0.9\n",
      "  Downloading trio_websocket-0.11.1-py3-none-any.whl (17 kB)\n",
      "Requirement already satisfied: certifi>=2021.10.8 in c:\\users\\zkzk7\\onedrive - skku.edu\\장보경\\이어드림스쿨3기\\fullstack-gpt\\env\\lib\\site-packages (from selenium) (2023.7.22)\n",
      "Requirement already satisfied: attrs>=20.1.0 in c:\\users\\zkzk7\\onedrive - skku.edu\\장보경\\이어드림스쿨3기\\fullstack-gpt\\env\\lib\\site-packages (from trio~=0.17->selenium) (23.1.0)\n",
      "Collecting sortedcontainers\n",
      "  Using cached sortedcontainers-2.4.0-py2.py3-none-any.whl (29 kB)\n",
      "Requirement already satisfied: idna in c:\\users\\zkzk7\\onedrive - skku.edu\\장보경\\이어드림스쿨3기\\fullstack-gpt\\env\\lib\\site-packages (from trio~=0.17->selenium) (3.4)\n",
      "Collecting outcome\n",
      "  Downloading outcome-1.3.0.post0-py2.py3-none-any.whl (10 kB)\n",
      "Requirement already satisfied: sniffio>=1.3.0 in c:\\users\\zkzk7\\onedrive - skku.edu\\장보경\\이어드림스쿨3기\\fullstack-gpt\\env\\lib\\site-packages (from trio~=0.17->selenium) (1.3.0)\n",
      "Requirement already satisfied: cffi>=1.14 in c:\\users\\zkzk7\\onedrive - skku.edu\\장보경\\이어드림스쿨3기\\fullstack-gpt\\env\\lib\\site-packages (from trio~=0.17->selenium) (1.15.1)\n",
      "Collecting wsproto>=0.14\n",
      "  Using cached wsproto-1.2.0-py3-none-any.whl (24 kB)\n",
      "Collecting PySocks!=1.5.7,<2.0,>=1.5.6\n",
      "  Using cached PySocks-1.7.1-py3-none-any.whl (16 kB)\n",
      "Requirement already satisfied: pycparser in c:\\users\\zkzk7\\onedrive - skku.edu\\장보경\\이어드림스쿨3기\\fullstack-gpt\\env\\lib\\site-packages (from cffi>=1.14->trio~=0.17->selenium) (2.21)\n",
      "Requirement already satisfied: h11<1,>=0.9.0 in c:\\users\\zkzk7\\onedrive - skku.edu\\장보경\\이어드림스쿨3기\\fullstack-gpt\\env\\lib\\site-packages (from wsproto>=0.14->trio-websocket~=0.9->selenium) (0.14.0)\n",
      "Installing collected packages: sortedcontainers, wsproto, PySocks, outcome, trio, trio-websocket, selenium\n",
      "Successfully installed PySocks-1.7.1 outcome-1.3.0.post0 selenium-4.16.0 sortedcontainers-2.4.0 trio-0.24.0 trio-websocket-0.11.1 wsproto-1.2.0\n"
     ]
    },
    {
     "name": "stderr",
     "output_type": "stream",
     "text": [
      "\n",
      "[notice] A new release of pip available: 22.3.1 -> 23.3.2\n",
      "[notice] To update, run: python.exe -m pip install --upgrade pip\n"
     ]
    }
   ],
   "source": [
    "!pip install selenium"
   ]
  },
  {
   "cell_type": "code",
   "execution_count": 98,
   "id": "ee812eff",
   "metadata": {},
   "outputs": [
    {
     "name": "stdout",
     "output_type": "stream",
     "text": [
      "No more pages. Exiting.\n"
     ]
    }
   ],
   "source": [
    "from selenium import webdriver\n",
    "from selenium.webdriver.common.by import By\n",
    "from selenium.webdriver.support.ui import WebDriverWait\n",
    "from selenium.webdriver.support import expected_conditions as EC\n",
    "from bs4 import BeautifulSoup\n",
    "import time\n",
    "\n",
    "\n",
    "# Selenium 드라이버 설정\n",
    "driver_path = '/chrome-win64'  # ChromeDriver의 경로\n",
    "driver = webdriver.Chrome()\n",
    "driver.get(\"https://finance.naver.com/world/sise.naver?symbol=NAS@IXIC\")\n",
    "\n",
    "data = []  # 데이터를 저장할 리스트\n",
    "\n",
    "def scrape_page():\n",
    "    WebDriverWait(driver, 10).until(\n",
    "        EC.presence_of_element_located((By.CLASS_NAME, \"tb_td\"))\n",
    "    )\n",
    "    soup = BeautifulSoup(driver.page_source, 'html.parser')\n",
    "    dates = soup.find_all(\"td\", class_=\"tb_td\")\n",
    "    closing_prices = soup.find_all(\"td\", class_=\"tb_td2\")\n",
    "    for date, price in zip(dates, closing_prices):\n",
    "        data.append({\n",
    "            'date': date.get_text(),\n",
    "            'price': price.get_text()\n",
    "        })\n",
    "\n",
    "current_page = 1\n",
    "while True:\n",
    "    scrape_page()\n",
    "    if current_page % 10 == 0:  # 10 페이지마다 \"다음\" 버튼 확인\n",
    "        try:\n",
    "            next_page_link = driver.find_element(By.CLASS_NAME, 'next')\n",
    "            next_page_link.click()\n",
    "        except Exception as e:\n",
    "            print(\"No more pages. Exiting.\")\n",
    "            break\n",
    "    else:  # 일반 페이지 이동\n",
    "        try:\n",
    "            next_page_link = driver.find_element(By.ID, f'dayLink{current_page + 1}')\n",
    "            next_page_link.click()\n",
    "        except Exception as e:\n",
    "            print(\"No more pages. Exiting.\")\n",
    "            break\n",
    "\n",
    "    current_page += 1\n",
    "    time.sleep(1)  # 서버에 부담을 주지 않기 위한 딜레이\n",
    "\n",
    "driver.quit()"
   ]
  },
  {
   "cell_type": "code",
   "execution_count": 87,
   "id": "b0f36c1b",
   "metadata": {},
   "outputs": [
    {
     "data": {
      "text/html": [
       "<div>\n",
       "<style scoped>\n",
       "    .dataframe tbody tr th:only-of-type {\n",
       "        vertical-align: middle;\n",
       "    }\n",
       "\n",
       "    .dataframe tbody tr th {\n",
       "        vertical-align: top;\n",
       "    }\n",
       "\n",
       "    .dataframe thead th {\n",
       "        text-align: right;\n",
       "    }\n",
       "</style>\n",
       "<table border=\"1\" class=\"dataframe\">\n",
       "  <thead>\n",
       "    <tr style=\"text-align: right;\">\n",
       "      <th></th>\n",
       "      <th>date</th>\n",
       "      <th>price</th>\n",
       "    </tr>\n",
       "  </thead>\n",
       "  <tbody>\n",
       "    <tr>\n",
       "      <th>0</th>\n",
       "      <td>2024-01-11</td>\n",
       "      <td>4780.24</td>\n",
       "    </tr>\n",
       "    <tr>\n",
       "      <th>1</th>\n",
       "      <td>2024-01-10</td>\n",
       "      <td>4783.45</td>\n",
       "    </tr>\n",
       "    <tr>\n",
       "      <th>2</th>\n",
       "      <td>2024-01-09</td>\n",
       "      <td>4756.50</td>\n",
       "    </tr>\n",
       "    <tr>\n",
       "      <th>3</th>\n",
       "      <td>2024-01-08</td>\n",
       "      <td>4763.54</td>\n",
       "    </tr>\n",
       "    <tr>\n",
       "      <th>4</th>\n",
       "      <td>2024-01-05</td>\n",
       "      <td>4697.24</td>\n",
       "    </tr>\n",
       "    <tr>\n",
       "      <th>...</th>\n",
       "      <td>...</td>\n",
       "      <td>...</td>\n",
       "    </tr>\n",
       "    <tr>\n",
       "      <th>5543</th>\n",
       "      <td>2002-01-08</td>\n",
       "      <td>1160.71</td>\n",
       "    </tr>\n",
       "    <tr>\n",
       "      <th>5544</th>\n",
       "      <td>2002-01-07</td>\n",
       "      <td>1164.89</td>\n",
       "    </tr>\n",
       "    <tr>\n",
       "      <th>5545</th>\n",
       "      <td>2002-01-04</td>\n",
       "      <td>1172.51</td>\n",
       "    </tr>\n",
       "    <tr>\n",
       "      <th>5546</th>\n",
       "      <td>2002-01-03</td>\n",
       "      <td>1165.27</td>\n",
       "    </tr>\n",
       "    <tr>\n",
       "      <th>5547</th>\n",
       "      <td>2002-01-02</td>\n",
       "      <td>1154.67</td>\n",
       "    </tr>\n",
       "  </tbody>\n",
       "</table>\n",
       "<p>5548 rows × 2 columns</p>\n",
       "</div>"
      ],
      "text/plain": [
       "           date    price\n",
       "0    2024-01-11  4780.24\n",
       "1    2024-01-10  4783.45\n",
       "2    2024-01-09  4756.50\n",
       "3    2024-01-08  4763.54\n",
       "4    2024-01-05  4697.24\n",
       "...         ...      ...\n",
       "5543 2002-01-08  1160.71\n",
       "5544 2002-01-07  1164.89\n",
       "5545 2002-01-04  1172.51\n",
       "5546 2002-01-03  1165.27\n",
       "5547 2002-01-02  1154.67\n",
       "\n",
       "[5548 rows x 2 columns]"
      ]
     },
     "execution_count": 87,
     "metadata": {},
     "output_type": "execute_result"
    }
   ],
   "source": [
    "import pandas as pd\n",
    "\n",
    "df_snp = pd.DataFrame(data).dropna()\n",
    "    \n",
    "# 날짜 데이터 형식 변환\n",
    "df_snp['date'] = pd.to_datetime(df_snp['date'])\n",
    "\n",
    "# 가격 데이터 형식 변환\n",
    "df_snp['price'] = df_snp['price'].apply(lambda x: float(x.replace(\",\", \"\")))\n",
    "\n",
    "df_snp"
   ]
  },
  {
   "cell_type": "code",
   "execution_count": 99,
   "id": "3b63dade",
   "metadata": {},
   "outputs": [
    {
     "data": {
      "text/html": [
       "<div>\n",
       "<style scoped>\n",
       "    .dataframe tbody tr th:only-of-type {\n",
       "        vertical-align: middle;\n",
       "    }\n",
       "\n",
       "    .dataframe tbody tr th {\n",
       "        vertical-align: top;\n",
       "    }\n",
       "\n",
       "    .dataframe thead th {\n",
       "        text-align: right;\n",
       "    }\n",
       "</style>\n",
       "<table border=\"1\" class=\"dataframe\">\n",
       "  <thead>\n",
       "    <tr style=\"text-align: right;\">\n",
       "      <th></th>\n",
       "      <th>date</th>\n",
       "      <th>price</th>\n",
       "    </tr>\n",
       "  </thead>\n",
       "  <tbody>\n",
       "    <tr>\n",
       "      <th>0</th>\n",
       "      <td>2024-01-11</td>\n",
       "      <td>14970.19</td>\n",
       "    </tr>\n",
       "    <tr>\n",
       "      <th>1</th>\n",
       "      <td>2024-01-10</td>\n",
       "      <td>14969.65</td>\n",
       "    </tr>\n",
       "    <tr>\n",
       "      <th>2</th>\n",
       "      <td>2024-01-09</td>\n",
       "      <td>14857.71</td>\n",
       "    </tr>\n",
       "    <tr>\n",
       "      <th>3</th>\n",
       "      <td>2024-01-08</td>\n",
       "      <td>14843.77</td>\n",
       "    </tr>\n",
       "    <tr>\n",
       "      <th>4</th>\n",
       "      <td>2024-01-05</td>\n",
       "      <td>14524.07</td>\n",
       "    </tr>\n",
       "    <tr>\n",
       "      <th>...</th>\n",
       "      <td>...</td>\n",
       "      <td>...</td>\n",
       "    </tr>\n",
       "    <tr>\n",
       "      <th>5540</th>\n",
       "      <td>2002-01-08</td>\n",
       "      <td>2055.74</td>\n",
       "    </tr>\n",
       "    <tr>\n",
       "      <th>5541</th>\n",
       "      <td>2002-01-07</td>\n",
       "      <td>2037.10</td>\n",
       "    </tr>\n",
       "    <tr>\n",
       "      <th>5542</th>\n",
       "      <td>2002-01-04</td>\n",
       "      <td>2059.38</td>\n",
       "    </tr>\n",
       "    <tr>\n",
       "      <th>5543</th>\n",
       "      <td>2002-01-03</td>\n",
       "      <td>2044.27</td>\n",
       "    </tr>\n",
       "    <tr>\n",
       "      <th>5544</th>\n",
       "      <td>2002-01-02</td>\n",
       "      <td>1979.25</td>\n",
       "    </tr>\n",
       "  </tbody>\n",
       "</table>\n",
       "<p>5545 rows × 2 columns</p>\n",
       "</div>"
      ],
      "text/plain": [
       "           date     price\n",
       "0    2024-01-11  14970.19\n",
       "1    2024-01-10  14969.65\n",
       "2    2024-01-09  14857.71\n",
       "3    2024-01-08  14843.77\n",
       "4    2024-01-05  14524.07\n",
       "...         ...       ...\n",
       "5540 2002-01-08   2055.74\n",
       "5541 2002-01-07   2037.10\n",
       "5542 2002-01-04   2059.38\n",
       "5543 2002-01-03   2044.27\n",
       "5544 2002-01-02   1979.25\n",
       "\n",
       "[5545 rows x 2 columns]"
      ]
     },
     "execution_count": 99,
     "metadata": {},
     "output_type": "execute_result"
    }
   ],
   "source": [
    "df_nas = pd.DataFrame(data).dropna()\n",
    "    \n",
    "# 날짜 데이터 형식 변환\n",
    "df_nas['date'] = pd.to_datetime(df_nas['date'])\n",
    "\n",
    "# 가격 데이터 형식 변환\n",
    "df_nas['price'] = df_nas['price'].apply(lambda x: float(x.replace(\",\", \"\")))\n",
    "\n",
    "df_nas"
   ]
  },
  {
   "cell_type": "code",
   "execution_count": null,
   "id": "a04511bd",
   "metadata": {},
   "outputs": [],
   "source": []
  },
  {
   "cell_type": "markdown",
   "id": "3c1490cb",
   "metadata": {},
   "source": [
    "## 4. 엑셀로 저장하기"
   ]
  },
  {
   "cell_type": "code",
   "execution_count": 97,
   "id": "4539590e",
   "metadata": {},
   "outputs": [],
   "source": [
    "df_snp.to_excel(\"210112_s&p500.xlsx\", index=False)"
   ]
  },
  {
   "cell_type": "code",
   "execution_count": 100,
   "id": "a84d30bd",
   "metadata": {},
   "outputs": [],
   "source": [
    "df_nas.to_excel(\"210112_nasdaq.xlsx\", index=False)"
   ]
  },
  {
   "cell_type": "markdown",
   "id": "6a123596",
   "metadata": {},
   "source": [
    "## 5. 그림그리기"
   ]
  },
  {
   "cell_type": "code",
   "execution_count": null,
   "id": "847a2306",
   "metadata": {},
   "outputs": [],
   "source": [
    "import matplotlib.pyplot as plt\n",
    "import pandas as pd\n",
    "import matplotlib.font_manager as fm\n",
    "import matplotlib.ticker as ticker\n",
    "\n",
    "# 설치된 폰트 목록에서 한글 폰트 경로 찾기\n",
    "font_path = None\n",
    "for font in fm.fontManager.ttflist:\n",
    "    if 'NanumGothic' in font.name:  # 예: 'NanumGothic'\n",
    "        font_path = font.fname\n",
    "        break\n",
    "\n",
    "# 한글 폰트 설정\n",
    "if font_path:\n",
    "    plt.rcParams['font.family'] = font.name\n",
    "else:\n",
    "    print(\"한글 폰트를 찾을 수 없습니다.\")\n"
   ]
  },
  {
   "cell_type": "code",
   "execution_count": 116,
   "id": "ce59af12",
   "metadata": {},
   "outputs": [
    {
     "data": {
      "image/png": "[encoded data removed]",
      "text/plain": [
       "<Figure size 640x480 with 1 Axes>"
      ]
     },
     "metadata": {},
     "output_type": "display_data"
    }
   ],
   "source": [
    "# 특정 기간 필터링\n",
    "# start_date = '2011-01-02'\n",
    "# end_date = '2024-01-11'\n",
    "\n",
    "# mask = (df_nas['date'] >= start_date) & (df_nas['date'] <= end_date)\n",
    "# df_nas1 = df_nas.loc[mask]\n",
    "\n",
    "# 필터링된 데이터로 선 그래프 그리기\n",
    "plt.plot(df_nas['date'], df_nas['price'])\n",
    "plt.title('Nasdaq')\n",
    "plt.xlabel('날짜')\n",
    "#plt.gca().xaxis.set_major_locator(ticker.MaxNLocator(nbins=5))  # 최대 5개의 레이블만 표시\n",
    "plt.ylabel('가격')\n",
    "plt.show()"
   ]
  },
  {
   "cell_type": "code",
   "execution_count": null,
   "id": "cf5f83d8",
   "metadata": {},
   "outputs": [],
   "source": []
  }
 ],
 "metadata": {
  "kernelspec": {
   "display_name": "Python 3 (ipykernel)",
   "language": "python",
   "name": "python3"
  },
  "language_info": {
   "codemirror_mode": {
    "name": "ipython",
    "version": 3
   },
   "file_extension": ".py",
   "mimetype": "text/x-python",
   "name": "python",
   "nbconvert_exporter": "python",
   "pygments_lexer": "ipython3",
   "version": "3.11.2"
  }
 },
 "nbformat": 4,
 "nbformat_minor": 5
}
