{
 "cells": [
  {
   "cell_type": "code",
   "execution_count": 4,
   "metadata": {},
   "outputs": [
    {
     "name": "stdout",
     "output_type": "stream",
     "text": [
      "Requirement already satisfied: webdriver_manager in c:\\users\\zkzk7\\onedrive - skku.edu\\장보경\\이어드림스쿨3기\\fullstack-gpt\\env\\lib\\site-packages (4.0.1)\n",
      "Requirement already satisfied: requests in c:\\users\\zkzk7\\onedrive - skku.edu\\장보경\\이어드림스쿨3기\\fullstack-gpt\\env\\lib\\site-packages (from webdriver_manager) (2.31.0)\n",
      "Requirement already satisfied: python-dotenv in c:\\users\\zkzk7\\onedrive - skku.edu\\장보경\\이어드림스쿨3기\\fullstack-gpt\\env\\lib\\site-packages (from webdriver_manager) (1.0.0)\n",
      "Requirement already satisfied: packaging in c:\\users\\zkzk7\\onedrive - skku.edu\\장보경\\이어드림스쿨3기\\fullstack-gpt\\env\\lib\\site-packages (from webdriver_manager) (23.1)\n",
      "Requirement already satisfied: charset-normalizer<4,>=2 in c:\\users\\zkzk7\\onedrive - skku.edu\\장보경\\이어드림스쿨3기\\fullstack-gpt\\env\\lib\\site-packages (from requests->webdriver_manager) (3.2.0)\n",
      "Requirement already satisfied: idna<4,>=2.5 in c:\\users\\zkzk7\\onedrive - skku.edu\\장보경\\이어드림스쿨3기\\fullstack-gpt\\env\\lib\\site-packages (from requests->webdriver_manager) (3.4)\n",
      "Requirement already satisfied: urllib3<3,>=1.21.1 in c:\\users\\zkzk7\\onedrive - skku.edu\\장보경\\이어드림스쿨3기\\fullstack-gpt\\env\\lib\\site-packages (from requests->webdriver_manager) (1.26.16)\n",
      "Requirement already satisfied: certifi>=2017.4.17 in c:\\users\\zkzk7\\onedrive - skku.edu\\장보경\\이어드림스쿨3기\\fullstack-gpt\\env\\lib\\site-packages (from requests->webdriver_manager) (2023.7.22)\n"
     ]
    }
   ],
   "source": [
    "!pip install webdriver_manager"
   ]
  },
  {
   "cell_type": "code",
   "execution_count": 5,
   "metadata": {},
   "outputs": [
    {
     "name": "stdout",
     "output_type": "stream",
     "text": [
      "Requirement already satisfied: selenium in c:\\users\\zkzk7\\onedrive - skku.edu\\장보경\\이어드림스쿨3기\\fullstack-gpt\\env\\lib\\site-packages (4.16.0)\n",
      "Requirement already satisfied: urllib3<3,>=1.26 in c:\\users\\zkzk7\\onedrive - skku.edu\\장보경\\이어드림스쿨3기\\fullstack-gpt\\env\\lib\\site-packages (from urllib3[socks]<3,>=1.26->selenium) (1.26.16)\n",
      "Requirement already satisfied: trio~=0.17 in c:\\users\\zkzk7\\onedrive - skku.edu\\장보경\\이어드림스쿨3기\\fullstack-gpt\\env\\lib\\site-packages (from selenium) (0.24.0)\n",
      "Requirement already satisfied: trio-websocket~=0.9 in c:\\users\\zkzk7\\onedrive - skku.edu\\장보경\\이어드림스쿨3기\\fullstack-gpt\\env\\lib\\site-packages (from selenium) (0.11.1)\n",
      "Requirement already satisfied: certifi>=2021.10.8 in c:\\users\\zkzk7\\onedrive - skku.edu\\장보경\\이어드림스쿨3기\\fullstack-gpt\\env\\lib\\site-packages (from selenium) (2023.7.22)\n",
      "Requirement already satisfied: attrs>=20.1.0 in c:\\users\\zkzk7\\onedrive - skku.edu\\장보경\\이어드림스쿨3기\\fullstack-gpt\\env\\lib\\site-packages (from trio~=0.17->selenium) (23.1.0)\n",
      "Requirement already satisfied: sortedcontainers in c:\\users\\zkzk7\\onedrive - skku.edu\\장보경\\이어드림스쿨3기\\fullstack-gpt\\env\\lib\\site-packages (from trio~=0.17->selenium) (2.4.0)\n",
      "Requirement already satisfied: idna in c:\\users\\zkzk7\\onedrive - skku.edu\\장보경\\이어드림스쿨3기\\fullstack-gpt\\env\\lib\\site-packages (from trio~=0.17->selenium) (3.4)\n",
      "Requirement already satisfied: outcome in c:\\users\\zkzk7\\onedrive - skku.edu\\장보경\\이어드림스쿨3기\\fullstack-gpt\\env\\lib\\site-packages (from trio~=0.17->selenium) (1.3.0.post0)\n",
      "Requirement already satisfied: sniffio>=1.3.0 in c:\\users\\zkzk7\\onedrive - skku.edu\\장보경\\이어드림스쿨3기\\fullstack-gpt\\env\\lib\\site-packages (from trio~=0.17->selenium) (1.3.0)\n",
      "Requirement already satisfied: cffi>=1.14 in c:\\users\\zkzk7\\onedrive - skku.edu\\장보경\\이어드림스쿨3기\\fullstack-gpt\\env\\lib\\site-packages (from trio~=0.17->selenium) (1.15.1)\n",
      "Requirement already satisfied: wsproto>=0.14 in c:\\users\\zkzk7\\onedrive - skku.edu\\장보경\\이어드림스쿨3기\\fullstack-gpt\\env\\lib\\site-packages (from trio-websocket~=0.9->selenium) (1.2.0)\n",
      "Requirement already satisfied: PySocks!=1.5.7,<2.0,>=1.5.6 in c:\\users\\zkzk7\\onedrive - skku.edu\\장보경\\이어드림스쿨3기\\fullstack-gpt\\env\\lib\\site-packages (from urllib3[socks]<3,>=1.26->selenium) (1.7.1)\n",
      "Requirement already satisfied: pycparser in c:\\users\\zkzk7\\onedrive - skku.edu\\장보경\\이어드림스쿨3기\\fullstack-gpt\\env\\lib\\site-packages (from cffi>=1.14->trio~=0.17->selenium) (2.21)\n",
      "Requirement already satisfied: h11<1,>=0.9.0 in c:\\users\\zkzk7\\onedrive - skku.edu\\장보경\\이어드림스쿨3기\\fullstack-gpt\\env\\lib\\site-packages (from wsproto>=0.14->trio-websocket~=0.9->selenium) (0.14.0)\n"
     ]
    }
   ],
   "source": [
    "!pip install selenium"
   ]
  },
  {
   "cell_type": "code",
   "execution_count": 8,
   "metadata": {},
   "outputs": [],
   "source": [
    "from selenium import webdriver\n",
    "from selenium.webdriver.common.by import By\n",
    "import time\n",
    "from webdriver_manager.chrome import ChromeDriverManager\n",
    "from selenium.webdriver.chrome.options import Options\n",
    "\n",
    "import os\n",
    "import requests\n",
    "from urllib.parse import quote\n",
    "\n",
    "def download_images():\n",
    "    # 웹 드라이버 설정\n",
    "    options = Options()\n",
    "    options.add_argument(\"headless\")\n",
    "    options.add_argument(\"window-size=1920,1080\")\n",
    "    driver = webdriver.Chrome(ChromeDriverManager().install(), chrome_options=options)\n",
    "\n",
    "    try:\n",
    "        # 검색어 입력 및 URL 인코딩\n",
    "        search = input('어떤 사진을 크롤링할까요? ')\n",
    "        encoded_search = quote(search)\n",
    "        url = f'https://www.google.co.kr/search?q={encoded_search}&hl=en&tbm=isch'\n",
    "\n",
    "        driver.get(url)\n",
    "\n",
    "        # 페이지 스크롤\n",
    "        print(\"스크롤 중...\")\n",
    "        for _ in range(3):\n",
    "            driver.execute_script('window.scrollTo(0, document.body.scrollHeight);')\n",
    "            time.sleep(1)\n",
    "\n",
    "        sub_imgs = driver.find_elements(By.CSS_SELECTOR, \".bRMDJf.islir\")\n",
    "        img_url_list = []\n",
    "\n",
    "        # 이미지 URL 수집\n",
    "        print(\"이미지 자료 수집 중...\")\n",
    "        for sub_img in sub_imgs:\n",
    "            try:\n",
    "                sub_img.click()\n",
    "                time.sleep(0.5)\n",
    "                img_url = driver.find_element(By.CSS_SELECTOR, '.r48jcc.pT0Scc.iPVvYb').get_attribute('src')\n",
    "                img_url_list.append(img_url)\n",
    "            except Exception as e:\n",
    "                print(f\"이미지 수집 중 오류 발생: {e}\")\n",
    "\n",
    "        # 이미지 저장 경로 설정\n",
    "        img_dir = \"img\"\n",
    "        if not os.path.exists(img_dir):\n",
    "            os.makedirs(img_dir)\n",
    "\n",
    "        # 이미지 다운로드\n",
    "        print(\"다운로드 시작...\")\n",
    "        for idx, img_url in enumerate(img_url_list):\n",
    "            try:\n",
    "                response = requests.get(img_url)\n",
    "                with open(os.path.join(img_dir, f'image_{idx}.jpg'), 'wb') as file:\n",
    "                    file.write(response.content)\n",
    "            except Exception as e:\n",
    "                print(f\"이미지 저장 중 오류 발생: {e}\")\n",
    "\n",
    "        print(\"완료!\")\n",
    "    finally:\n",
    "        driver.close()"
   ]
  },
  {
   "cell_type": "code",
   "execution_count": 9,
   "metadata": {},
   "outputs": [
    {
     "ename": "TypeError",
     "evalue": "WebDriver.__init__() got multiple values for argument 'options'",
     "output_type": "error",
     "traceback": [
      "\u001b[1;31m---------------------------------------------------------------------------\u001b[0m",
      "\u001b[1;31mTypeError\u001b[0m                                 Traceback (most recent call last)",
      "Cell \u001b[1;32mIn[9], line 2\u001b[0m\n\u001b[0;32m      1\u001b[0m \u001b[38;5;66;03m# 함수 실행\u001b[39;00m\n\u001b[1;32m----> 2\u001b[0m \u001b[43mdownload_images\u001b[49m\u001b[43m(\u001b[49m\u001b[43m)\u001b[49m\n",
      "Cell \u001b[1;32mIn[8], line 16\u001b[0m, in \u001b[0;36mdownload_images\u001b[1;34m()\u001b[0m\n\u001b[0;32m     14\u001b[0m options\u001b[38;5;241m.\u001b[39madd_argument(\u001b[38;5;124m\"\u001b[39m\u001b[38;5;124mheadless\u001b[39m\u001b[38;5;124m\"\u001b[39m)\n\u001b[0;32m     15\u001b[0m options\u001b[38;5;241m.\u001b[39madd_argument(\u001b[38;5;124m\"\u001b[39m\u001b[38;5;124mwindow-size=1920,1080\u001b[39m\u001b[38;5;124m\"\u001b[39m)\n\u001b[1;32m---> 16\u001b[0m driver \u001b[38;5;241m=\u001b[39m \u001b[43mwebdriver\u001b[49m\u001b[38;5;241;43m.\u001b[39;49m\u001b[43mChrome\u001b[49m\u001b[43m(\u001b[49m\u001b[43mChromeDriverManager\u001b[49m\u001b[43m(\u001b[49m\u001b[43m)\u001b[49m\u001b[38;5;241;43m.\u001b[39;49m\u001b[43minstall\u001b[49m\u001b[43m(\u001b[49m\u001b[43m)\u001b[49m\u001b[43m,\u001b[49m\u001b[43m \u001b[49m\u001b[43moptions\u001b[49m\u001b[38;5;241;43m=\u001b[39;49m\u001b[43moptions\u001b[49m\u001b[43m)\u001b[49m\n\u001b[0;32m     18\u001b[0m \u001b[38;5;28;01mtry\u001b[39;00m:\n\u001b[0;32m     19\u001b[0m     \u001b[38;5;66;03m# 검색어 입력 및 URL 인코딩\u001b[39;00m\n\u001b[0;32m     20\u001b[0m     search \u001b[38;5;241m=\u001b[39m \u001b[38;5;28minput\u001b[39m(\u001b[38;5;124m'\u001b[39m\u001b[38;5;124m어떤 사진을 크롤링할까요? \u001b[39m\u001b[38;5;124m'\u001b[39m)\n",
      "\u001b[1;31mTypeError\u001b[0m: WebDriver.__init__() got multiple values for argument 'options'"
     ]
    }
   ],
   "source": [
    "# 함수 실행\n",
    "download_images()"
   ]
  },
  {
   "cell_type": "code",
   "execution_count": null,
   "metadata": {},
   "outputs": [],
   "source": []
  }
 ],
 "metadata": {
  "kernelspec": {
   "display_name": "Python 3",
   "language": "python",
   "name": "python3"
  },
  "language_info": {
   "codemirror_mode": {
    "name": "ipython",
    "version": 3
   },
   "file_extension": ".py",
   "mimetype": "text/x-python",
   "name": "python",
   "nbconvert_exporter": "python",
   "pygments_lexer": "ipython3",
   "version": "3.11.2"
  },
  "orig_nbformat": 4
 },
 "nbformat": 4,
 "nbformat_minor": 2
}
