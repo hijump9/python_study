{
 "cells": [
  {
   "cell_type": "markdown",
   "id": "b1ec7678",
   "metadata": {},
   "source": [
    "## 1. 기본 세팅"
   ]
  },
  {
   "cell_type": "code",
   "execution_count": 12,
   "id": "69797048",
   "metadata": {},
   "outputs": [],
   "source": [
    "import requests\n",
    "import bs4\n",
    "\n",
    "page_no = 1\n",
    "page_url = f\"https://finance.naver.com/sise/sise_index_day.naver?code=KPI200&page={page_no}\"\n",
    "page_url\n",
    "\n",
    "source = requests.get(page_url).text\n",
    "source = bs4.BeautifulSoup(source)\n",
    "\n",
    "last_url = source.find_all(\"td\", class_=\"pgRR\")[0].find_all(\"a\")[0][\"href\"]\n",
    "\n",
    "last_page = last_url.split('&page=')[-1]\n",
    "last_page = int(last_page)"
   ]
  },
  {
   "cell_type": "markdown",
   "id": "5a310c5b",
   "metadata": {},
   "source": [
    "## 2. 페이지 돌면서 날짜, 가격 정보 리스트 만들기"
   ]
  },
  {
   "cell_type": "code",
   "execution_count": 18,
   "id": "e4406495",
   "metadata": {},
   "outputs": [],
   "source": [
    "date_list = []\n",
    "price_list = []\n",
    "\n",
    "\n",
    "for page_no in range(1, last_page+1):\n",
    "\n",
    "    dates = source.find_all(\"td\", class_=\"date\")\n",
    "    for date in dates:\n",
    "        date_list.append(date.text)\n",
    "    \n",
    "    prices = source.find_all(\"td\", class_=\"number_1\")\n",
    "    for price in prices[::4]:\n",
    "        price_list.append(price.text)"
   ]
  },
  {
   "cell_type": "code",
   "execution_count": 19,
   "id": "018d0274",
   "metadata": {},
   "outputs": [
    {
     "data": {
      "text/plain": [
       "4308"
      ]
     },
     "execution_count": 19,
     "metadata": {},
     "output_type": "execute_result"
    }
   ],
   "source": [
    "len(date_list)"
   ]
  },
  {
   "cell_type": "code",
   "execution_count": 20,
   "id": "63440fa4",
   "metadata": {},
   "outputs": [
    {
     "data": {
      "text/plain": [
       "4308"
      ]
     },
     "execution_count": 20,
     "metadata": {},
     "output_type": "execute_result"
    }
   ],
   "source": [
    "len(price_list)"
   ]
  },
  {
   "cell_type": "markdown",
   "id": "46747832",
   "metadata": {},
   "source": [
    "## 3. 날짜, 가격 리스트를 데이터프레임으로 만들기"
   ]
  },
  {
   "cell_type": "code",
   "execution_count": 16,
   "id": "a2dba83f",
   "metadata": {},
   "outputs": [
    {
     "data": {
      "text/html": [
       "<div>\n",
       "<style scoped>\n",
       "    .dataframe tbody tr th:only-of-type {\n",
       "        vertical-align: middle;\n",
       "    }\n",
       "\n",
       "    .dataframe tbody tr th {\n",
       "        vertical-align: top;\n",
       "    }\n",
       "\n",
       "    .dataframe thead th {\n",
       "        text-align: right;\n",
       "    }\n",
       "</style>\n",
       "<table border=\"1\" class=\"dataframe\">\n",
       "  <thead>\n",
       "    <tr style=\"text-align: right;\">\n",
       "      <th></th>\n",
       "      <th>date</th>\n",
       "      <th>price</th>\n",
       "    </tr>\n",
       "  </thead>\n",
       "  <tbody>\n",
       "    <tr>\n",
       "      <th>0</th>\n",
       "      <td>2023.06.02</td>\n",
       "      <td>342.05</td>\n",
       "    </tr>\n",
       "    <tr>\n",
       "      <th>1</th>\n",
       "      <td>2023.06.01</td>\n",
       "      <td>338.08</td>\n",
       "    </tr>\n",
       "    <tr>\n",
       "      <th>2</th>\n",
       "      <td>2023.05.31</td>\n",
       "      <td>339.12</td>\n",
       "    </tr>\n",
       "    <tr>\n",
       "      <th>3</th>\n",
       "      <td>2023.05.30</td>\n",
       "      <td>341.50</td>\n",
       "    </tr>\n",
       "    <tr>\n",
       "      <th>4</th>\n",
       "      <td>2023.05.26</td>\n",
       "      <td>337.11</td>\n",
       "    </tr>\n",
       "    <tr>\n",
       "      <th>...</th>\n",
       "      <td>...</td>\n",
       "      <td>...</td>\n",
       "    </tr>\n",
       "    <tr>\n",
       "      <th>4303</th>\n",
       "      <td>2023.06.01</td>\n",
       "      <td>338.08</td>\n",
       "    </tr>\n",
       "    <tr>\n",
       "      <th>4304</th>\n",
       "      <td>2023.05.31</td>\n",
       "      <td>339.12</td>\n",
       "    </tr>\n",
       "    <tr>\n",
       "      <th>4305</th>\n",
       "      <td>2023.05.30</td>\n",
       "      <td>341.50</td>\n",
       "    </tr>\n",
       "    <tr>\n",
       "      <th>4306</th>\n",
       "      <td>2023.05.26</td>\n",
       "      <td>337.11</td>\n",
       "    </tr>\n",
       "    <tr>\n",
       "      <th>4307</th>\n",
       "      <td>2023.05.25</td>\n",
       "      <td>335.35</td>\n",
       "    </tr>\n",
       "  </tbody>\n",
       "</table>\n",
       "<p>4308 rows × 2 columns</p>\n",
       "</div>"
      ],
      "text/plain": [
       "            date   price\n",
       "0     2023.06.02  342.05\n",
       "1     2023.06.01  338.08\n",
       "2     2023.05.31  339.12\n",
       "3     2023.05.30  341.50\n",
       "4     2023.05.26  337.11\n",
       "...          ...     ...\n",
       "4303  2023.06.01  338.08\n",
       "4304  2023.05.31  339.12\n",
       "4305  2023.05.30  341.50\n",
       "4306  2023.05.26  337.11\n",
       "4307  2023.05.25  335.35\n",
       "\n",
       "[4308 rows x 2 columns]"
      ]
     },
     "execution_count": 16,
     "metadata": {},
     "output_type": "execute_result"
    }
   ],
   "source": [
    "import pandas as pd\n",
    "\n",
    "df = pd.DataFrame({\"date\" : date_list,\n",
    "                  \"price\" : price_list}).dropna()\n",
    "df"
   ]
  },
  {
   "cell_type": "markdown",
   "id": "3c1490cb",
   "metadata": {},
   "source": [
    "## 4. 엑셀로 저장하기"
   ]
  },
  {
   "cell_type": "code",
   "execution_count": 17,
   "id": "e6e818d7",
   "metadata": {},
   "outputs": [],
   "source": [
    "df.to_excel(\"kpi200.xlsx\", index=False)"
   ]
  },
  {
   "cell_type": "code",
   "execution_count": null,
   "id": "ce59af12",
   "metadata": {},
   "outputs": [],
   "source": []
  }
 ],
 "metadata": {
  "kernelspec": {
   "display_name": "Python 3 (ipykernel)",
   "language": "python",
   "name": "python3"
  },
  "language_info": {
   "codemirror_mode": {
    "name": "ipython",
    "version": 3
   },
   "file_extension": ".py",
   "mimetype": "text/x-python",
   "name": "python",
   "nbconvert_exporter": "python",
   "pygments_lexer": "ipython3",
   "version": "3.11.2"
  }
 },
 "nbformat": 4,
 "nbformat_minor": 5
}
