{
 "cells": [
  {
   "cell_type": "code",
   "execution_count": 2,
   "id": "61a56026",
   "metadata": {},
   "outputs": [],
   "source": [
    "## 장보경_23.06.21_day14\n",
    "\n",
    "# 1. 가까운 수\n",
    "def solution(array, n):\n",
    "    closest_num = None\n",
    "    min_diff = float('inf')\n",
    "    \n",
    "    for num in array:\n",
    "        diff = abs(num - n)\n",
    "        \n",
    "        if diff < min_diff:\n",
    "            min_diff = diff\n",
    "            closest_num = num\n",
    "        elif diff == min_diff:\n",
    "            closest_num = min(closest_num, num)\n",
    "    \n",
    "    return closest_num\n",
    "\n",
    "\n",
    "# 2. 369 게임\n",
    "def solution(order):\n",
    "    claps = sum([str(order).count(ch) for ch in ['3', '6', '9']])\n",
    "    return claps\n",
    "\n",
    "\n",
    "#3. 암호 해독\n",
    "def solution(cipher: str, code: int) -> str:\n",
    "    decrypted = cipher[code - 1::code]\n",
    "    return ''.join(decrypted)\n",
    "\n",
    "#4. 대문자와 소문자\n",
    "def solution(my_string: str) -> str:\n",
    "    return my_string.swapcase()"
   ]
  },
  {
   "cell_type": "code",
   "execution_count": null,
   "id": "92a43e99",
   "metadata": {},
   "outputs": [],
   "source": [
    "\n"
   ]
  }
 ],
 "metadata": {
  "kernelspec": {
   "display_name": "Python 3 (ipykernel)",
   "language": "python",
   "name": "python3"
  },
  "language_info": {
   "codemirror_mode": {
    "name": "ipython",
    "version": 3
   },
   "file_extension": ".py",
   "mimetype": "text/x-python",
   "name": "python",
   "nbconvert_exporter": "python",
   "pygments_lexer": "ipython3",
   "version": "3.11.2"
  }
 },
 "nbformat": 4,
 "nbformat_minor": 5
}
