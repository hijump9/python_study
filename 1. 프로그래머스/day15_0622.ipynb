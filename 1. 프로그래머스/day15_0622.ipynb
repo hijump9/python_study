{
 "cells": [
  {
   "cell_type": "code",
   "execution_count": null,
   "id": "e7807bff",
   "metadata": {},
   "outputs": [],
   "source": [
    "## 장보경_23.06.22_day15\n",
    "\n",
    "#1. 영어가 싫어요\n",
    "def solution(numbers):\n",
    "    number_dict = {\n",
    "        \"zero\": 0, \"one\": 1, \"two\": 2, \"three\": 3, \"four\": 4,\n",
    "        \"five\": 5, \"six\": 6, \"seven\": 7, \"eight\": 8, \"nine\": 9\n",
    "    }\n",
    "    \n",
    "    result = \"\"\n",
    "    i = 0\n",
    "    \n",
    "    while i < len(numbers):\n",
    "        # 길이가 긴 숫자부터 순서대로 확인하고, 해당하는 숫자로 변환하여 결과에 추가\n",
    "        for j in range(5, 0, -1):  # 가장 긴 숫자는 \"three\"이므로 5글자까지 확인\n",
    "            if numbers[i:i+j] in number_dict:\n",
    "                result += str(number_dict[numbers[i:i+j]])\n",
    "                i += j\n",
    "                break\n",
    "    \n",
    "    return int(result)\n",
    "\n",
    "\n",
    "#2. 인덱스 바꾸기\n",
    "def solution(my_string: str, num1: int, num2: int) -> str:\n",
    "\n",
    "    str_list = list(my_string)\n",
    "    str_list[num1], str_list[num2] = str_list[num2], str_list[num1]\n",
    "    \n",
    "    return ''.join(str_list)\n",
    "\n",
    "\n",
    "#3. 한 번만 등장한 문자\n",
    "from collections import Counter\n",
    "\n",
    "def solution(s: str) -> str:\n",
    "    count = Counter(s)\n",
    "    result = [char for char, freq in count.items() if freq == 1]\n",
    "    result.sort()\n",
    "\n",
    "    return ''.join(result)\n",
    "\n",
    "\n",
    "#4. 약수 구하기\n",
    "def solution(n):\n",
    "    divisors = []  \n",
    "    \n",
    "    for i in range(1, n+1):\n",
    "        if n % i == 0: \n",
    "            divisors.append(i)\n",
    "    \n",
    "    return sorted(divisors)  \n"
   ]
  }
 ],
 "metadata": {
  "kernelspec": {
   "display_name": "Python 3 (ipykernel)",
   "language": "python",
   "name": "python3"
  },
  "language_info": {
   "codemirror_mode": {
    "name": "ipython",
    "version": 3
   },
   "file_extension": ".py",
   "mimetype": "text/x-python",
   "name": "python",
   "nbconvert_exporter": "python",
   "pygments_lexer": "ipython3",
   "version": "3.11.2"
  }
 },
 "nbformat": 4,
 "nbformat_minor": 5
}
