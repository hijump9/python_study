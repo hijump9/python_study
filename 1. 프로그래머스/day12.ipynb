{
 "cells": [
  {
   "cell_type": "code",
   "execution_count": null,
   "id": "767ae61a",
   "metadata": {},
   "outputs": [],
   "source": [
    "## 장보경_23.6.19_day12\n",
    "\n",
    "\n",
    "#1. 모음 제가\n",
    "def solution(my_string):\n",
    "    vowels = 'aeiou'\n",
    "    result = ''\n",
    "    \n",
    "    for char in my_string:\n",
    "        if char not in vowels:\n",
    "            result += char\n",
    "            \n",
    "    return result\n",
    "\n",
    "\n",
    "#2. 문자열 정렬하기(1)\n",
    "def solution(my_string):\n",
    "    numbers = []\n",
    "    for char in my_string:\n",
    "        if char.isdigit():  # 숫자인 경우에만 리스트에 추가\n",
    "            numbers.append(int(char))\n",
    "    numbers.sort()  # 숫자 리스트를 오름차순으로 정렬\n",
    "    return numbers\n",
    "\n",
    "\n",
    "#3. 숨어있는 숫자의 덧셈(1)\n",
    "def solution(my_string):\n",
    "    sum_of_numbers = 0\n",
    "    \n",
    "    for char in my_string:\n",
    "        if char.isdigit():\n",
    "            sum_of_numbers += int(char)\n",
    "            \n",
    "    return sum_of_numbers\n",
    "\n",
    "\n",
    "#4. 소인수분해\n",
    "def solution(n):\n",
    "    factors = []\n",
    "    divisor = 2\n",
    "    \n",
    "    while n > 1:\n",
    "        if n % divisor == 0:\n",
    "            if divisor not in factors:\n",
    "                factors.append(divisor)\n",
    "            n //= divisor\n",
    "        else:\n",
    "            divisor += 1\n",
    "            \n",
    "    return factors"
   ]
  }
 ],
 "metadata": {
  "kernelspec": {
   "display_name": "Python 3 (ipykernel)",
   "language": "python",
   "name": "python3"
  },
  "language_info": {
   "codemirror_mode": {
    "name": "ipython",
    "version": 3
   },
   "file_extension": ".py",
   "mimetype": "text/x-python",
   "name": "python",
   "nbconvert_exporter": "python",
   "pygments_lexer": "ipython3",
   "version": "3.11.2"
  }
 },
 "nbformat": 4,
 "nbformat_minor": 5
}
