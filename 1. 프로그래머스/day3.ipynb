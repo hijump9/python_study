{
 "cells": [
  {
   "cell_type": "code",
   "execution_count": null,
   "id": "c5938c5b",
   "metadata": {},
   "outputs": [],
   "source": [
    "# 장보경_day3_23.6.5(월)\n",
    "\n",
    "## 1.나머지 구하기\n",
    "\n",
    "def solution(num1, num2):\n",
    "    answer = num1 % num2\n",
    "    return answer\n",
    "\n",
    "\n",
    "\n",
    "## 2. 중앙값 구하기\n",
    "def solution(array):\n",
    "    array.sort()\n",
    "    mid = len(array) // 2\n",
    "    if len(array) % 2 == 0:\n",
    "        answer = (array[mid-1] + array[mid]) / 2\n",
    "    else:\n",
    "        answer = array[mid]\n",
    "    return answer\n",
    "\n",
    "\n",
    "\n",
    "## 3. 최빈값 구하기\n",
    "\n",
    "def solution(array):\n",
    "    # 빈도수를 저장할 딕셔너리 초기화\n",
    "    freq_dict = {}\n",
    "    # 배열의 각 원소를 돌며 빈도수를 기록\n",
    "    for num in array:\n",
    "        if num in freq_dict:\n",
    "        else:\n",
    "            freq_dict[num] = 1\n",
    "            \n",
    "    # 최대 빈도수 찾기\n",
    "    max_count = max(freq_dict.values())\n",
    "    # 최대 빈도를 가진 원소 찾기\n",
    "    mode = [num for num, count in freq_dict.items() if count == max_count]\n",
    "    \n",
    "    # 최빈값이 1개일 경우 해당 값을 리턴, 2개 이상일 경우 -1 리턴\n",
    "    if len(mode) == 1:\n",
    "        return mode[0]\n",
    "    else:\n",
    "        return -1\n",
    "    \n",
    "    \n",
    "\n",
    "## 4. 짝수는 싫어요\n",
    "def solution(n):\n",
    "    if n % 2 == 0:\n",
    "        answer = list(range(1, n, 2))\n",
    "    else:\n",
    "        answer = list(range(1, n+1, 2))\n",
    "    return answer"
   ]
  }
 ],
 "metadata": {
  "kernelspec": {
   "display_name": "Python 3 (ipykernel)",
   "language": "python",
   "name": "python3"
  },
  "language_info": {
   "codemirror_mode": {
    "name": "ipython",
    "version": 3
   },
   "file_extension": ".py",
   "mimetype": "text/x-python",
   "name": "python",
   "nbconvert_exporter": "python",
   "pygments_lexer": "ipython3",
   "version": "3.11.2"
  }
 },
 "nbformat": 4,
 "nbformat_minor": 5
}
