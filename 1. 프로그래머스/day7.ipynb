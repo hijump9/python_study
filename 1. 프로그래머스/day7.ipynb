{
 "cells": [
  {
   "cell_type": "code",
   "execution_count": 1,
   "id": "b50db39d",
   "metadata": {},
   "outputs": [],
   "source": [
    "# 1. 특정 문자 제거하기\n",
    "\n",
    "def solution(my_string, letter):\n",
    "    answer = \"\"\n",
    "    for i in my_string:\n",
    "        if i != letter:\n",
    "            answer += i\n",
    "    return answer\n",
    "\n",
    "\n",
    "# 2. 각도기\n",
    "def solution(angle):\n",
    "    if angle == 180:\n",
    "        answer = 4\n",
    "    elif angle > 90:\n",
    "        answer = 3\n",
    "    elif angle == 90:\n",
    "        answer = 2\n",
    "    elif angle > 0:\n",
    "        answer = 1\n",
    "    else:\n",
    "        answer = None\n",
    "    return answer\n",
    "\n",
    "\n",
    "# 3. 양꼬치\n",
    "def solution_new(n, k):\n",
    "    yang = n * 12000\n",
    "    service = n // 10\n",
    "    drink = (k - service) * 2000\n",
    "    answer = yang + drink\n",
    "    return answer\n",
    "\n",
    "\n",
    "\n",
    "# 4. 짝수의 합\n",
    "def solution(n):\n",
    "    answer = sum(i for i in range(2, n+1, 2))\n",
    "    return answer\n",
    "\n"
   ]
  },
  {
   "cell_type": "code",
   "execution_count": 18,
   "id": "ede932b1",
   "metadata": {},
   "outputs": [],
   "source": [
    "#머쓱이네 양꼬치 가게는 10인분을 먹으면 음료수 하나를 서비스로 줍니다.\n",
    "#양꼬치는 1인분에 12,000원, 음료수는 2,000원입니다. \n",
    "#정수 n과 k가 매개변수로 주어졌을 때, \n",
    "#양꼬치 n인분과 음료수 k개를 먹었다면 총얼마를 지불해야 하는지 return\n",
    "\n",
    "\n",
    "# 1. 양꼬치를 10인분 안먹었다면,\n",
    "#     1. 양꼬치만큼 12000원 곱하고, 음료수만큼 2000원 곱해서 더한 것을 리턴\n",
    "# 2. 양꼬치를 10인분 이상 먹었다면,\n",
    "#     1. 양꼬치만큼 12000원 곱하고, 음료수-1 만큼 2000원 곱해서 더한 것을 리턴\n",
    "#         1. 양꼬치 10~19인분 먹으면 음료수 1개 공짜라서 2000*1 빼주기\n",
    "#         2. 양꼬치 20~29인분 먹으면 음료수 2개 공짜라서 2000*2 빼주기\n",
    "    \n",
    "    \n",
    "def solution(n, k):\n",
    "    yang = n * 12000\n",
    "    if n >= 10:\n",
    "        service = n // 10\n",
    "        answer = yang + ((k-service)*2000)\n",
    "    else:\n",
    "        answer = yang + (k*2000)\n",
    "    return answer"
   ]
  },
  {
   "cell_type": "code",
   "execution_count": 19,
   "id": "7daa7fdc",
   "metadata": {},
   "outputs": [
    {
     "data": {
      "text/plain": [
       "122000"
      ]
     },
     "execution_count": 19,
     "metadata": {},
     "output_type": "execute_result"
    }
   ],
   "source": [
    "solution(10, 2)"
   ]
  },
  {
   "cell_type": "code",
   "execution_count": 20,
   "id": "73515477",
   "metadata": {},
   "outputs": [],
   "source": [
    "def solution1(n, k):\n",
    "    price = n * 12000\n",
    "    if n >= 10:\n",
    "        discount = (n // 10) * 2000  # 10단위마다 2000원 할인\n",
    "        k -= n // 10  # 할인 적용 회수만큼 k 값을 감소\n",
    "        price += k * 2000  # 할인 제외 금액 계산\n",
    "        price -= discount  # 할인 적용 금액 계산\n",
    "    else:\n",
    "        price += k * 2000\n",
    "    return price"
   ]
  },
  {
   "cell_type": "code",
   "execution_count": 21,
   "id": "a0729418",
   "metadata": {},
   "outputs": [
    {
     "data": {
      "text/plain": [
       "120000"
      ]
     },
     "execution_count": 21,
     "metadata": {},
     "output_type": "execute_result"
    }
   ],
   "source": [
    "solution1(10, 2)"
   ]
  },
  {
   "cell_type": "code",
   "execution_count": 22,
   "id": "9645347e",
   "metadata": {},
   "outputs": [],
   "source": [
    "def solution2(n, k):\n",
    "    price = n * 12000\n",
    "    if n >= 10:\n",
    "        service = n // 10\n",
    "        price += (k - service) * 2000  # k 값에 따라 바뀌는 금액 부분\n",
    "        price -= service * 2000  # 할인 적용 금액 계산\n",
    "    else:\n",
    "        price += k * 2000\n",
    "    return price"
   ]
  },
  {
   "cell_type": "code",
   "execution_count": 23,
   "id": "a175f66f",
   "metadata": {},
   "outputs": [
    {
     "data": {
      "text/plain": [
       "120000"
      ]
     },
     "execution_count": 23,
     "metadata": {},
     "output_type": "execute_result"
    }
   ],
   "source": [
    "solution2(10, 2)"
   ]
  },
  {
   "cell_type": "code",
   "execution_count": 24,
   "id": "f2a3c843",
   "metadata": {},
   "outputs": [],
   "source": [
    "def solution3(n, k):\n",
    "    price = n * 12000\n",
    "    if n >= 10:\n",
    "        service = n // 10\n",
    "        if k > service:\n",
    "            price += (k - service) * 2000\n",
    "    else:\n",
    "        price += k * 2000\n",
    "    return price"
   ]
  },
  {
   "cell_type": "code",
   "execution_count": 26,
   "id": "0f425da0",
   "metadata": {},
   "outputs": [
    {
     "data": {
      "text/plain": [
       "122000"
      ]
     },
     "execution_count": 26,
     "metadata": {},
     "output_type": "execute_result"
    }
   ],
   "source": [
    "solution3(10, 2)"
   ]
  },
  {
   "cell_type": "code",
   "execution_count": 27,
   "id": "78df3c89",
   "metadata": {},
   "outputs": [],
   "source": [
    "def solution_new(n, k):\n",
    "    yang = n * 12000\n",
    "    service = n // 10\n",
    "    drink = (k - service) * 2000\n",
    "    answer = yang + drink\n",
    "    return answer"
   ]
  },
  {
   "cell_type": "code",
   "execution_count": 28,
   "id": "c54906c9",
   "metadata": {},
   "outputs": [
    {
     "data": {
      "text/plain": [
       "122000"
      ]
     },
     "execution_count": 28,
     "metadata": {},
     "output_type": "execute_result"
    }
   ],
   "source": [
    "solution_new(10, 2)"
   ]
  },
  {
   "cell_type": "code",
   "execution_count": 46,
   "id": "bbc963c2",
   "metadata": {},
   "outputs": [
    {
     "name": "stdout",
     "output_type": "stream",
     "text": [
      "2\n",
      "4\n"
     ]
    }
   ],
   "source": [
    "# 정수 n이 주어질 때, n이하의 짝수를 모두 더한 값을 return 하도록 solution 함수를 작성해주세요.\n",
    "\n",
    "# 1. n이 짝수야\n",
    "#     1. n이 0이 될 때까지 2씩 뺀 값을 더한다.\n",
    "# 2. n이 홀수야\n",
    "\n",
    "\n",
    "n = 5  # n까지의 범위를 정의\n",
    "for i in range(2, n + 1, 2):\n",
    "    print(i)"
   ]
  },
  {
   "cell_type": "code",
   "execution_count": 45,
   "id": "babd9a73",
   "metadata": {},
   "outputs": [
    {
     "data": {
      "text/plain": [
       "6"
      ]
     },
     "execution_count": 45,
     "metadata": {},
     "output_type": "execute_result"
    }
   ],
   "source": [
    "n = 5\n",
    "sigma = sum(i for i in range(2, n+1, 2))\n",
    "sigma"
   ]
  },
  {
   "cell_type": "code",
   "execution_count": 48,
   "id": "a4de5bdd",
   "metadata": {},
   "outputs": [],
   "source": [
    "def solution(n):\n",
    "    answer = sum(i for i in range(2, n+1, 2))\n",
    "    return answer"
   ]
  },
  {
   "cell_type": "code",
   "execution_count": 49,
   "id": "8f0e927b",
   "metadata": {},
   "outputs": [
    {
     "data": {
      "text/plain": [
       "6"
      ]
     },
     "execution_count": 49,
     "metadata": {},
     "output_type": "execute_result"
    }
   ],
   "source": [
    "solution(5)"
   ]
  },
  {
   "cell_type": "code",
   "execution_count": null,
   "id": "ef7cc426",
   "metadata": {},
   "outputs": [],
   "source": []
  }
 ],
 "metadata": {
  "kernelspec": {
   "display_name": "Python 3 (ipykernel)",
   "language": "python",
   "name": "python3"
  },
  "language_info": {
   "codemirror_mode": {
    "name": "ipython",
    "version": 3
   },
   "file_extension": ".py",
   "mimetype": "text/x-python",
   "name": "python",
   "nbconvert_exporter": "python",
   "pygments_lexer": "ipython3",
   "version": "3.11.2"
  }
 },
 "nbformat": 4,
 "nbformat_minor": 5
}
