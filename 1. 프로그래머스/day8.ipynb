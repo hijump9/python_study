{
 "cells": [
  {
   "cell_type": "code",
   "execution_count": 21,
   "id": "2f23a5a8",
   "metadata": {},
   "outputs": [],
   "source": [
    "## 23.6.13(화)\n",
    "\n",
    "# 1. 배열 자르기\n",
    "def solution(numbers, num1, num2):\n",
    "    answer = numbers[num1:num2+1]\n",
    "    return answer\n",
    "\n",
    "\n",
    "\n",
    "# 2. 외계행성의 나이\n",
    "def solution(age):\n",
    "    mapping_age = {\n",
    "        0: 'a',\n",
    "        1: 'b',\n",
    "        2: 'c',\n",
    "        3: 'd',\n",
    "        4: 'e',\n",
    "        5: 'f',\n",
    "        6: 'g',\n",
    "        7: 'h',\n",
    "        8: 'i',\n",
    "        9: 'j'\n",
    "    }\n",
    "    answer = ''.join(mapping_age[int(digit)] for digit in str(age))\n",
    "    return answer\n",
    "\n",
    "\n",
    "\n",
    "# 3. 진료순서 정하기\n",
    "def solution(emergency):\n",
    "    patient_orders = [0] * len(emergency)\n",
    "    rank = 1\n",
    "\n",
    "    for _ in range(len(emergency)):\n",
    "        max_val = max(emergency)\n",
    "\n",
    "        for i in range(len(emergency)):\n",
    "            if emergency[i] == max_val:\n",
    "                patient_orders[i] = rank\n",
    "                rank += 1\n",
    "                emergency[i] = 0\n",
    "    answer = patient_orders\n",
    "    \n",
    "    return answer\n",
    "\n",
    "\n",
    "\n",
    "# 4. 순서쌍의 개수 구하기\n",
    "def solution(n):\n",
    "    count = 0\n",
    "    for i in range(1, int(n**0.5) + 1):\n",
    "        if n % i == 0:\n",
    "            count += 1\n",
    "            if i != n // i:\n",
    "                count += 1\n",
    "    answer = count\n",
    "    return answer"
   ]
  },
  {
   "cell_type": "code",
   "execution_count": 4,
   "id": "4699d88b",
   "metadata": {},
   "outputs": [
    {
     "data": {
      "text/plain": [
       "'cb'"
      ]
     },
     "execution_count": 4,
     "metadata": {},
     "output_type": "execute_result"
    }
   ],
   "source": [
    "solution(21)"
   ]
  },
  {
   "cell_type": "code",
   "execution_count": 3,
   "id": "aeaa37a1",
   "metadata": {},
   "outputs": [],
   "source": [
    "def solution(age):\n",
    "    mapping_age = {\n",
    "        0: 'a',\n",
    "        1: 'b',\n",
    "        2: 'c',\n",
    "        3: 'd',\n",
    "        4: 'e',\n",
    "        5: 'f',\n",
    "        6: 'g',\n",
    "        7: 'h',\n",
    "        8: 'i',\n",
    "        9: 'j'\n",
    "    }\n",
    "    answer = ''.join(mapping_age[int(digit)] for digit in str(age))\n",
    "    return answer"
   ]
  },
  {
   "cell_type": "code",
   "execution_count": 19,
   "id": "bf728874",
   "metadata": {},
   "outputs": [],
   "source": [
    "def solution(emergency):\n",
    "    patient_orders = [0] * len(emergency)\n",
    "    rank = 1\n",
    "\n",
    "    for _ in range(len(emergency)):\n",
    "        max_val = max(emergency)\n",
    "\n",
    "        for i in range(len(emergency)):\n",
    "            if emergency[i] == max_val:\n",
    "                patient_orders[i] = rank\n",
    "                rank += 1\n",
    "                emergency[i] = 0\n",
    "    answer = patient_orders\n",
    "    \n",
    "    return answer"
   ]
  },
  {
   "cell_type": "code",
   "execution_count": 20,
   "id": "8fa35fbb",
   "metadata": {},
   "outputs": [
    {
     "data": {
      "text/plain": [
       "[5, 2, 1, 3, 4]"
      ]
     },
     "execution_count": 20,
     "metadata": {},
     "output_type": "execute_result"
    }
   ],
   "source": [
    "solution([1,29,63,7,3])"
   ]
  },
  {
   "cell_type": "code",
   "execution_count": null,
   "id": "876f3150",
   "metadata": {},
   "outputs": [],
   "source": []
  }
 ],
 "metadata": {
  "kernelspec": {
   "display_name": "Python 3 (ipykernel)",
   "language": "python",
   "name": "python3"
  },
  "language_info": {
   "codemirror_mode": {
    "name": "ipython",
    "version": 3
   },
   "file_extension": ".py",
   "mimetype": "text/x-python",
   "name": "python",
   "nbconvert_exporter": "python",
   "pygments_lexer": "ipython3",
   "version": "3.11.2"
  }
 },
 "nbformat": 4,
 "nbformat_minor": 5
}
