{
 "cells": [
  {
   "cell_type": "code",
   "execution_count": 1,
   "id": "f4b1bb4c",
   "metadata": {},
   "outputs": [],
   "source": [
    "## 장보경_23.6.20_day13\n",
    "\n",
    "# 1. 컨트롤 제트\n",
    "def solution(s):\n",
    "    numbers = s.split()  \n",
    "    stack = []  \n",
    "\n",
    "    for num in numbers:\n",
    "        if num == 'Z':\n",
    "            stack.pop()  # 스택에서 가장 최근에 추가한 숫자를 제거 (뺄셈)\n",
    "        else:\n",
    "            stack.append(int(num))  \n",
    "\n",
    "    return sum(stack)  \n",
    "\n",
    "# 2. 배열 원소의 길이\n",
    "def solution(strlist):\n",
    "    return [len(s) for s in strlist]\n",
    "\n",
    "\n",
    "# 3. 중복된 문자 제거\n",
    "def solution(my_string):\n",
    "    result = \"\"\n",
    "    for char in my_string:\n",
    "        if char not in result:\n",
    "            result += char\n",
    "    return result\n",
    "\n",
    "\n",
    "# 4. 삼각형의 완성조건(1)\n",
    "def solution(sides):\n",
    "    sides.sort()  \n",
    "\n",
    "    if sides[2] < sides[0] + sides[1]:  # 가장 긴 변의 길이가 다른 두 변의 길이의 합보다 작은지 확인\n",
    "        return 1  \n",
    "    else:\n",
    "        return 2  "
   ]
  },
  {
   "cell_type": "code",
   "execution_count": null,
   "id": "04803f96",
   "metadata": {},
   "outputs": [],
   "source": []
  }
 ],
 "metadata": {
  "kernelspec": {
   "display_name": "Python 3 (ipykernel)",
   "language": "python",
   "name": "python3"
  },
  "language_info": {
   "codemirror_mode": {
    "name": "ipython",
    "version": 3
   },
   "file_extension": ".py",
   "mimetype": "text/x-python",
   "name": "python",
   "nbconvert_exporter": "python",
   "pygments_lexer": "ipython3",
   "version": "3.11.2"
  }
 },
 "nbformat": 4,
 "nbformat_minor": 5
}
