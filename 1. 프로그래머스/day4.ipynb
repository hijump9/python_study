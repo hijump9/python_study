{
 "cells": [
  {
   "cell_type": "code",
   "execution_count": null,
   "id": "d016a2f7",
   "metadata": {},
   "outputs": [],
   "source": [
    "# 장보경_day4_23.6.6(화)\n",
    "\n",
    "## 1. 피자나눠먹기(1)\n",
    "# 피자를 일곱 조각으로 잘라 줍니다. \n",
    "# 피자를 나눠먹을 사람의 수 n이 주어질 때, \n",
    "# 모든 사람이 피자를 한 조각 이상 먹기 위해 필요한 피자의 수를 return\n",
    "def solution(n):\n",
    "    if n % 7 == 0:\n",
    "        answer = n // 7\n",
    "    else:\n",
    "        answer = n // 7 + 1\n",
    "    return answer\n",
    "\n",
    "\n",
    "\n",
    "## 2. 피자나눠먹기(2)\n",
    "# 피자를 여섯 조각으로 잘라 줍니다. \n",
    "# 피자를 나눠먹을 사람의 수 n이 매개변수로 주어질 때, \n",
    "# n명이 주문한 피자를 남기지 않고 모두 같은 수의 피자 조각을 먹어야 한다면 \n",
    "# 최소 몇 판을 시켜야 하는지를 return\n",
    "def solution(n):\n",
    "    i = 1\n",
    "    while (n * i) % 6 != 0:\n",
    "        i += 1\n",
    "    pieces = n * i\n",
    "    answer = pieces // 6\n",
    "    return answer\n",
    "\n",
    "\n",
    "\n",
    "## 3. 피자나눠먹기(3)\n",
    "# 두 조각에서 열 조각까지 원하는 조각 수로 잘라줍니다.\n",
    "# 피자 조각 수 slice와 피자를 먹는 사람의 수 n이 매개변수로 주어질 때, \n",
    "# n명의 사람이 최소 한 조각 이상 피자를 먹으려면 최소 몇 판의 피자를 시켜야 하는지를 return\n",
    "\n",
    "def solution(n):\n",
    "    if n % slice == 0:\n",
    "        answer = n // slice\n",
    "    else:\n",
    "        answer = n // slice + 1\n",
    "    return answer\n",
    "\n",
    "\n",
    "\n",
    "## 4. 배열의 평균값\n",
    "# 배열 안의 숫자를 모두 더한 후 요소의 개수만큼 나눠준다.\n",
    "def solution(numbers):\n",
    "    total_sum = sum(numbers)\n",
    "    counts = len(numbers)\n",
    "    answer = total_sum / counts\n",
    "    return answer"
   ]
  },
  {
   "cell_type": "code",
   "execution_count": 28,
   "id": "8fff697e",
   "metadata": {},
   "outputs": [],
   "source": []
  },
  {
   "cell_type": "code",
   "execution_count": null,
   "id": "77d02e09",
   "metadata": {},
   "outputs": [],
   "source": []
  },
  {
   "cell_type": "code",
   "execution_count": null,
   "id": "9bae6299",
   "metadata": {},
   "outputs": [],
   "source": []
  }
 ],
 "metadata": {
  "kernelspec": {
   "display_name": "Python 3 (ipykernel)",
   "language": "python",
   "name": "python3"
  },
  "language_info": {
   "codemirror_mode": {
    "name": "ipython",
    "version": 3
   },
   "file_extension": ".py",
   "mimetype": "text/x-python",
   "name": "python",
   "nbconvert_exporter": "python",
   "pygments_lexer": "ipython3",
   "version": "3.11.2"
  }
 },
 "nbformat": 4,
 "nbformat_minor": 5
}
