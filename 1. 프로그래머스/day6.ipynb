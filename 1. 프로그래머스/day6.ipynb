{
 "cells": [
  {
   "cell_type": "code",
   "execution_count": null,
   "id": "bbc2fbf6",
   "metadata": {},
   "outputs": [],
   "source": [
    "# 1. 문자열 뒤집기\n",
    "def solution(my_string):\n",
    "    answer = my_string[::-1]\n",
    "    return answer\n",
    "\n",
    "\n",
    "\n",
    "# 2. 직각삼각형 만들기\n",
    "n = int(input())\n",
    "\n",
    "for i in range(1, n+1):\n",
    "    print(\"*\"*i)\n",
    "    \n",
    "\n",
    "    \n",
    "# 3. 짝수, 홀수 개수\n",
    "def solution(num_list):\n",
    "    odd = []\n",
    "    even = []\n",
    "    for i in num_list:\n",
    "        if i % 2 == 0:\n",
    "            even.append(i)\n",
    "        else:\n",
    "            odd.append(i)\n",
    "    answer = [len(even), len(odd)]\n",
    "    return answer\n",
    "\n",
    "\n",
    "\n",
    "# 4. 문자 반복 출력하기\n",
    "def solution(my_string, n):\n",
    "    result = \"\".join([i * n for i in my_string])\n",
    "    return result"
   ]
  },
  {
   "cell_type": "code",
   "execution_count": null,
   "id": "cac236ad",
   "metadata": {},
   "outputs": [],
   "source": []
  }
 ],
 "metadata": {
  "kernelspec": {
   "display_name": "Python 3 (ipykernel)",
   "language": "python",
   "name": "python3"
  },
  "language_info": {
   "codemirror_mode": {
    "name": "ipython",
    "version": 3
   },
   "file_extension": ".py",
   "mimetype": "text/x-python",
   "name": "python",
   "nbconvert_exporter": "python",
   "pygments_lexer": "ipython3",
   "version": "3.11.2"
  }
 },
 "nbformat": 4,
 "nbformat_minor": 5
}
