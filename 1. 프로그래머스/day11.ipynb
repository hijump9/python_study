{
 "cells": [
  {
   "cell_type": "code",
   "execution_count": 1,
   "id": "38e41080",
   "metadata": {},
   "outputs": [],
   "source": [
    "## 장보경_23.6.18(일)_day11\n",
    "\n",
    "#1. 주사위의 개수\n",
    "def solution(box, n):\n",
    "    return (box[0] // n) * (box[1] // n) * (box[2] // n)\n",
    "\n",
    "\n",
    "#2. 합성수 구하기\n",
    "def solution(n):\n",
    "    nums = [True] * (n + 1)\n",
    "    sqrt_n = int(n ** 0.5)\n",
    "    count = 0\n",
    "    \n",
    "    for i in range(2, sqrt_n + 1):\n",
    "        if nums[i]:\n",
    "            for j in range(i*2, n+1, i):\n",
    "                nums[j] = False\n",
    "    \n",
    "    for i in range(4, n+1):\n",
    "        if not nums[i]:\n",
    "            count += 1\n",
    "            \n",
    "    return count\n",
    "\n",
    "\n",
    "#3. 최댓값 만들기(1)\n",
    "def solution(numbers):\n",
    "    numbers.sort(reverse=True)\n",
    "    return numbers[0] * numbers[1]\n",
    "\n",
    "\n",
    "#4. 팩토리얼\n",
    "import math\n",
    "\n",
    "def solution(n):\n",
    "    i = 0\n",
    "    while math.factorial(i) <= n:\n",
    "        i += 1\n",
    "    return i - 1\n"
   ]
  },
  {
   "cell_type": "code",
   "execution_count": 2,
   "id": "d94008cd",
   "metadata": {},
   "outputs": [
    {
     "name": "stdout",
     "output_type": "stream",
     "text": [
      "solution1 실행 시간: 0.0009667873382568359\n",
      "solution2 실행 시간: 0.0\n"
     ]
    }
   ],
   "source": [
    "import time\n",
    "\n",
    "def solution1(n):\n",
    "    count = 0\n",
    "    \n",
    "    for num in range(2, n+1):\n",
    "        divisors = 0\n",
    "        \n",
    "        for i in range(1, num+1):\n",
    "            if num % i == 0:\n",
    "                divisors += 1\n",
    "        \n",
    "        if divisors >= 3:\n",
    "            count += 1\n",
    "    \n",
    "    return count\n",
    "\n",
    "def solution2(n):\n",
    "    nums = [True] * (n + 1)\n",
    "    prime = int(n ** 0.5)\n",
    "    count = 0\n",
    "    \n",
    "    for i in range(2, prime + 1):\n",
    "        if nums[i]:\n",
    "            for j in range(i*2, n+1, i):\n",
    "                nums[j] = False\n",
    "    \n",
    "    for i in range(4, n+1):\n",
    "        if not nums[i]:\n",
    "            count += 1\n",
    "            \n",
    "    return count\n",
    "\n",
    "# solution1의 실행 시간 측정\n",
    "start_time = time.time()\n",
    "solution1(100)\n",
    "end_time = time.time()\n",
    "execution_time1 = end_time - start_time\n",
    "print(\"solution1 실행 시간:\", execution_time1)\n",
    "\n",
    "# solution2의 실행 시간 측정\n",
    "start_time = time.time()\n",
    "solution2(100)\n",
    "end_time = time.time()\n",
    "execution_time2 = end_time - start_time\n",
    "print(\"solution2 실행 시간:\", execution_time2)\n"
   ]
  }
 ],
 "metadata": {
  "kernelspec": {
   "display_name": "Python 3 (ipykernel)",
   "language": "python",
   "name": "python3"
  },
  "language_info": {
   "codemirror_mode": {
    "name": "ipython",
    "version": 3
   },
   "file_extension": ".py",
   "mimetype": "text/x-python",
   "name": "python",
   "nbconvert_exporter": "python",
   "pygments_lexer": "ipython3",
   "version": "3.11.2"
  }
 },
 "nbformat": 4,
 "nbformat_minor": 5
}
