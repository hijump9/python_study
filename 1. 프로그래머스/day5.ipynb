{
 "cells": [
  {
   "cell_type": "code",
   "execution_count": 3,
   "id": "9a278e26",
   "metadata": {},
   "outputs": [],
   "source": [
    "## 장보경_day5_23.6.8(목)\n",
    "\n",
    "# 1. 옷가게 할인 받기\n",
    "def solution(price):\n",
    "    \n",
    "    if price >= 500000:\n",
    "        answer = price*0.8\n",
    "    elif price >= 300000:\n",
    "        answer = price*0.9\n",
    "    elif price >= 100000:\n",
    "        answer = price*0.95\n",
    "    else:\n",
    "        answer = price\n",
    "        \n",
    "    return answer\n",
    "\n",
    "\n",
    "\n",
    "\n",
    "#2. 아이스아메리카노\n",
    "def solution(money):\n",
    "    \n",
    "    coffee = 5500\n",
    "    answer = [0, money]  # Default answer\n",
    "    \n",
    "    if money >= coffee:\n",
    "        if money % coffee == 0:\n",
    "            cups = money // coffee\n",
    "            change = 0\n",
    "        else:\n",
    "            cups = money // coffee\n",
    "            change = money - (coffee * cups)\n",
    "        \n",
    "        answer = [cups, change]\n",
    "    \n",
    "    return answer\n",
    "\n",
    "\n",
    "\n",
    "# 3. 나이출력\n",
    "def solution(age):\n",
    "    \n",
    "    answer = 2022 - age + 1\n",
    "    \n",
    "    return answer\n",
    "\n",
    "\n",
    "\n",
    "# 4. 배열 뒤집기\n",
    "def solution(num_list):\n",
    "    \n",
    "    answer = [num for num in reversed(num_list)]\n",
    "    \n",
    "    return answer"
   ]
  }
 ],
 "metadata": {
  "kernelspec": {
   "display_name": "Python 3 (ipykernel)",
   "language": "python",
   "name": "python3"
  },
  "language_info": {
   "codemirror_mode": {
    "name": "ipython",
    "version": 3
   },
   "file_extension": ".py",
   "mimetype": "text/x-python",
   "name": "python",
   "nbconvert_exporter": "python",
   "pygments_lexer": "ipython3",
   "version": "3.11.2"
  }
 },
 "nbformat": 4,
 "nbformat_minor": 5
}
