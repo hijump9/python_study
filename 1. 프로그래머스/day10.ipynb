{
 "cells": [
  {
   "cell_type": "code",
   "execution_count": 1,
   "id": "12890bf1",
   "metadata": {},
   "outputs": [],
   "source": [
    "## 장보경_23.6.15_day10\n",
    "\n",
    "#1. 점의 위치 구하기\n",
    "def solution(dot):\n",
    "    x = dot[0]\n",
    "    y = dot[1]\n",
    "    if x > 0 and y > 0:\n",
    "        answer = 1\n",
    "    elif x < 0 and y < 0:\n",
    "        answer = 2\n",
    "    elif x < 0 and y > 0:\n",
    "        answer = 3\n",
    "    elif x > 0 and y < 0:\n",
    "        answer = 4\n",
    "    else:\n",
    "        raise ValueError(\"Invalid dot coordinates: ({}, {})\".format(x, y))\n",
    "        \n",
    "    return answer\n",
    "\n",
    "\n",
    "# 2. 2차원으로 만들기\n",
    "def solution(num_list, n):\n",
    "    answer = []\n",
    "    for i in range(0, len(num_list), n):\n",
    "        answer.append(num_list[i:i+n])\n",
    "    return answer\n",
    "\n",
    "\n",
    "# 3. 공 던지기\n",
    "def solution(numbers, k):\n",
    "    answer = numbers[2*(k-1)%len(numbers)]\n",
    "    return answer\n",
    "\n",
    "\n",
    "# 4. 배열 회전시키기\n",
    "def solution(numbers, direction):\n",
    "    if direction == \"left\":\n",
    "        answer =  numbers[1:] + [numbers[0]]\n",
    "    elif direction == \"right\":\n",
    "        answer = [numbers[-1]] + numbers[:-1]\n",
    "    \n",
    "    return answer"
   ]
  },
  {
   "cell_type": "code",
   "execution_count": 2,
   "id": "c86c03be",
   "metadata": {},
   "outputs": [],
   "source": [
    "# 최지웅 3번\n",
    "def solution(numbers, k):\n",
    "    answer = 0\n",
    "    if len(numbers) < k * 2: #k*2가 numbers의 길이보다 클 경우\n",
    "        numbers = numbers * ((k*2) // len(numbers) + 1) #numbers는 numbers에 k*2를 len(numbers)+1 으로 나눈 몫이다.\n",
    "\n",
    "    answer = numbers[2*(k-1)]\n",
    "    return answer"
   ]
  },
  {
   "cell_type": "code",
   "execution_count": 3,
   "id": "b9ba6949",
   "metadata": {},
   "outputs": [],
   "source": [
    "# 이정훈 3번\n",
    "\n",
    "def solution(numbers, k):\n",
    "    numbers = numbers * k\n",
    "    \n",
    "    answer = numbers[2*k-2]\n",
    "    return answer"
   ]
  },
  {
   "cell_type": "code",
   "execution_count": 4,
   "id": "492a08e3",
   "metadata": {},
   "outputs": [],
   "source": [
    "# 이선민 3번\n",
    "\n",
    "def solution(numbers, k):\n",
    "    #0->2->0\n",
    "    #0,2,4,6,8,10\n",
    "    #0,2,4,6\n",
    "    temp = k*2 - 2\n",
    "    \n",
    "    return numbers[temp%len(numbers)]"
   ]
  },
  {
   "cell_type": "code",
   "execution_count": null,
   "id": "7410701c",
   "metadata": {},
   "outputs": [],
   "source": [
    "# 남궁맑음 3번\n",
    "def solution(numbers, k):\n",
    "    return numbers[2*(k-1)%len(numbers)]"
   ]
  }
 ],
 "metadata": {
  "kernelspec": {
   "display_name": "Python 3 (ipykernel)",
   "language": "python",
   "name": "python3"
  },
  "language_info": {
   "codemirror_mode": {
    "name": "ipython",
    "version": 3
   },
   "file_extension": ".py",
   "mimetype": "text/x-python",
   "name": "python",
   "nbconvert_exporter": "python",
   "pygments_lexer": "ipython3",
   "version": "3.11.2"
  }
 },
 "nbformat": 4,
 "nbformat_minor": 5
}
