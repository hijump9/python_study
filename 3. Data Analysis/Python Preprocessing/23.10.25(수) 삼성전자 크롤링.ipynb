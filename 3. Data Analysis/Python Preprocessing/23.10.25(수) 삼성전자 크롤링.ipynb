{
 "cells": [
  {
   "cell_type": "code",
   "execution_count": 1,
   "id": "83352475",
   "metadata": {},
   "outputs": [
    {
     "name": "stdout",
     "output_type": "stream",
     "text": [
      "Collecting scipyNote: you may need to restart the kernel to use updated packages.\n"
     ]
    },
    {
     "name": "stderr",
     "output_type": "stream",
     "text": [
      "\n",
      "[notice] A new release of pip available: 22.3.1 -> 23.3.1\n",
      "[notice] To update, run: python.exe -m pip install --upgrade pip\n"
     ]
    },
    {
     "name": "stdout",
     "output_type": "stream",
     "text": [
      "\n",
      "  Downloading scipy-1.11.3-cp311-cp311-win_amd64.whl (44.1 MB)\n",
      "     ---------------------------------------- 44.1/44.1 MB 5.9 MB/s eta 0:00:00\n",
      "Collecting statsmodels\n",
      "  Downloading statsmodels-0.14.0-cp311-cp311-win_amd64.whl (9.2 MB)\n",
      "     ---------------------------------------- 9.2/9.2 MB 7.1 MB/s eta 0:00:00\n",
      "Requirement already satisfied: numpy<1.28.0,>=1.21.6 in c:\\users\\zkzk7\\appdata\\local\\programs\\python\\python311\\lib\\site-packages (from scipy) (1.24.3)\n",
      "Requirement already satisfied: pandas>=1.0 in c:\\users\\zkzk7\\appdata\\local\\programs\\python\\python311\\lib\\site-packages (from statsmodels) (2.0.1)\n",
      "Collecting patsy>=0.5.2\n",
      "  Downloading patsy-0.5.3-py2.py3-none-any.whl (233 kB)\n",
      "     -------------------------------------- 233.8/233.8 kB 7.2 MB/s eta 0:00:00\n",
      "Requirement already satisfied: packaging>=21.3 in c:\\users\\zkzk7\\appdata\\local\\programs\\python\\python311\\lib\\site-packages (from statsmodels) (23.1)\n",
      "Requirement already satisfied: python-dateutil>=2.8.2 in c:\\users\\zkzk7\\appdata\\local\\programs\\python\\python311\\lib\\site-packages (from pandas>=1.0->statsmodels) (2.8.2)\n",
      "Requirement already satisfied: pytz>=2020.1 in c:\\users\\zkzk7\\appdata\\local\\programs\\python\\python311\\lib\\site-packages (from pandas>=1.0->statsmodels) (2023.3)\n",
      "Requirement already satisfied: tzdata>=2022.1 in c:\\users\\zkzk7\\appdata\\local\\programs\\python\\python311\\lib\\site-packages (from pandas>=1.0->statsmodels) (2023.3)\n",
      "Requirement already satisfied: six in c:\\users\\zkzk7\\appdata\\local\\programs\\python\\python311\\lib\\site-packages (from patsy>=0.5.2->statsmodels) (1.16.0)\n",
      "Installing collected packages: scipy, patsy, statsmodels\n",
      "Successfully installed patsy-0.5.3 scipy-1.11.3 statsmodels-0.14.0\n"
     ]
    }
   ],
   "source": [
    "pip install scipy statsmodels"
   ]
  },
  {
   "cell_type": "code",
   "execution_count": 2,
   "id": "57431e4d",
   "metadata": {},
   "outputs": [
    {
     "name": "stdout",
     "output_type": "stream",
     "text": [
      "F-statistic: 0.012653190858039693, p-value: 0.9874292968858848\n"
     ]
    }
   ],
   "source": [
    "import numpy as np\n",
    "from scipy import stats\n",
    "import statsmodels.api as sm\n",
    "from statsmodels.stats.multicomp import pairwise_tukeyhsd\n",
    "\n",
    "# 랜덤 데이터 생성 (3개의 그룹, 각 그룹당 20개의 데이터)\n",
    "np.random.seed(0)\n",
    "group1 = np.random.normal(50, 10, 20)\n",
    "group2 = np.random.normal(55, 10, 20)\n",
    "group3 = np.random.normal(60, 10, 20)\n",
    "\n",
    "# 모든 데이터를 하나의 배열로 합치고, 그룹 라벨을 생성\n",
    "data = np.concatenate([group1, group2, group3])\n",
    "labels = ['group1']*len(group1) + ['group2']*len(group2) + ['group3']*len(group3)\n",
    "\n",
    "# 일원분산분석 (One-way ANOVA)\n",
    "f_stat, p_val = stats.f_oneway(group1, group2, group3)\n",
    "print(f\"F-statistic: {f_stat}, p-value: {p_val}\")\n",
    "\n",
    "# p-value가 0.05보다 작다면, 사후분석을 수행\n",
    "if p_val < 0.05:\n",
    "    print(\"Performing Tukey's HSD...\")\n",
    "    tukey = pairwise_tukeyhsd(data, labels, alpha=0.05)\n",
    "    print(tukey)"
   ]
  },
  {
   "cell_type": "code",
   "execution_count": 11,
   "id": "4c4428b7",
   "metadata": {},
   "outputs": [
    {
     "ename": "ValueError",
     "evalue": "keyword grid_b is not recognized; valid keywords are ['size', 'width', 'color', 'tickdir', 'pad', 'labelsize', 'labelcolor', 'zorder', 'gridOn', 'tick1On', 'tick2On', 'label1On', 'label2On', 'length', 'direction', 'left', 'bottom', 'right', 'top', 'labelleft', 'labelbottom', 'labelright', 'labeltop', 'labelrotation', 'grid_agg_filter', 'grid_alpha', 'grid_animated', 'grid_antialiased', 'grid_clip_box', 'grid_clip_on', 'grid_clip_path', 'grid_color', 'grid_dash_capstyle', 'grid_dash_joinstyle', 'grid_dashes', 'grid_data', 'grid_drawstyle', 'grid_figure', 'grid_fillstyle', 'grid_gapcolor', 'grid_gid', 'grid_in_layout', 'grid_label', 'grid_linestyle', 'grid_linewidth', 'grid_marker', 'grid_markeredgecolor', 'grid_markeredgewidth', 'grid_markerfacecolor', 'grid_markerfacecoloralt', 'grid_markersize', 'grid_markevery', 'grid_mouseover', 'grid_path_effects', 'grid_picker', 'grid_pickradius', 'grid_rasterized', 'grid_sketch_params', 'grid_snap', 'grid_solid_capstyle', 'grid_solid_joinstyle', 'grid_transform', 'grid_url', 'grid_visible', 'grid_xdata', 'grid_ydata', 'grid_zorder', 'grid_aa', 'grid_c', 'grid_ds', 'grid_ls', 'grid_lw', 'grid_mec', 'grid_mew', 'grid_mfc', 'grid_mfcalt', 'grid_ms']",
     "output_type": "error",
     "traceback": [
      "\u001b[1;31m---------------------------------------------------------------------------\u001b[0m",
      "\u001b[1;31mValueError\u001b[0m                                Traceback (most recent call last)",
      "Cell \u001b[1;32mIn[11], line 38\u001b[0m\n\u001b[0;32m     36\u001b[0m plt\u001b[38;5;241m.\u001b[39mxlabel(\u001b[38;5;124m'\u001b[39m\u001b[38;5;124mDay\u001b[39m\u001b[38;5;124m'\u001b[39m)\n\u001b[0;32m     37\u001b[0m plt\u001b[38;5;241m.\u001b[39mylabel(\u001b[38;5;124m'\u001b[39m\u001b[38;5;124mPrice\u001b[39m\u001b[38;5;124m'\u001b[39m)\n\u001b[1;32m---> 38\u001b[0m \u001b[43mplt\u001b[49m\u001b[38;5;241;43m.\u001b[39;49m\u001b[43mgrid\u001b[49m\u001b[43m(\u001b[49m\u001b[43mb\u001b[49m\u001b[38;5;241;43m=\u001b[39;49m\u001b[38;5;28;43;01mTrue\u001b[39;49;00m\u001b[43m,\u001b[49m\u001b[43m \u001b[49m\u001b[43mcolor\u001b[49m\u001b[38;5;241;43m=\u001b[39;49m\u001b[38;5;124;43m'\u001b[39;49m\u001b[38;5;124;43mDarkTurquoise\u001b[39;49m\u001b[38;5;124;43m'\u001b[39;49m\u001b[43m,\u001b[49m\u001b[43m \u001b[49m\u001b[43malpha\u001b[49m\u001b[38;5;241;43m=\u001b[39;49m\u001b[38;5;241;43m0.3\u001b[39;49m\u001b[43m,\u001b[49m\u001b[43m \u001b[49m\u001b[43mlinestyle\u001b[49m\u001b[38;5;241;43m=\u001b[39;49m\u001b[38;5;124;43m'\u001b[39;49m\u001b[38;5;124;43m:\u001b[39;49m\u001b[38;5;124;43m'\u001b[39;49m\u001b[43m,\u001b[49m\u001b[43m \u001b[49m\u001b[43mlinewidth\u001b[49m\u001b[38;5;241;43m=\u001b[39;49m\u001b[38;5;241;43m2\u001b[39;49m\u001b[43m)\u001b[49m\n",
      "File \u001b[1;32m~\\AppData\\Local\\Programs\\Python\\Python311\\Lib\\site-packages\\matplotlib\\pyplot.py:2616\u001b[0m, in \u001b[0;36mgrid\u001b[1;34m(visible, which, axis, **kwargs)\u001b[0m\n\u001b[0;32m   2614\u001b[0m \u001b[38;5;129m@_copy_docstring_and_deprecators\u001b[39m(Axes\u001b[38;5;241m.\u001b[39mgrid)\n\u001b[0;32m   2615\u001b[0m \u001b[38;5;28;01mdef\u001b[39;00m \u001b[38;5;21mgrid\u001b[39m(visible\u001b[38;5;241m=\u001b[39m\u001b[38;5;28;01mNone\u001b[39;00m, which\u001b[38;5;241m=\u001b[39m\u001b[38;5;124m'\u001b[39m\u001b[38;5;124mmajor\u001b[39m\u001b[38;5;124m'\u001b[39m, axis\u001b[38;5;241m=\u001b[39m\u001b[38;5;124m'\u001b[39m\u001b[38;5;124mboth\u001b[39m\u001b[38;5;124m'\u001b[39m, \u001b[38;5;241m*\u001b[39m\u001b[38;5;241m*\u001b[39mkwargs):\n\u001b[1;32m-> 2616\u001b[0m     \u001b[38;5;28;01mreturn\u001b[39;00m \u001b[43mgca\u001b[49m\u001b[43m(\u001b[49m\u001b[43m)\u001b[49m\u001b[38;5;241;43m.\u001b[39;49m\u001b[43mgrid\u001b[49m\u001b[43m(\u001b[49m\u001b[43mvisible\u001b[49m\u001b[38;5;241;43m=\u001b[39;49m\u001b[43mvisible\u001b[49m\u001b[43m,\u001b[49m\u001b[43m \u001b[49m\u001b[43mwhich\u001b[49m\u001b[38;5;241;43m=\u001b[39;49m\u001b[43mwhich\u001b[49m\u001b[43m,\u001b[49m\u001b[43m \u001b[49m\u001b[43maxis\u001b[49m\u001b[38;5;241;43m=\u001b[39;49m\u001b[43maxis\u001b[49m\u001b[43m,\u001b[49m\u001b[43m \u001b[49m\u001b[38;5;241;43m*\u001b[39;49m\u001b[38;5;241;43m*\u001b[39;49m\u001b[43mkwargs\u001b[49m\u001b[43m)\u001b[49m\n",
      "File \u001b[1;32m~\\AppData\\Local\\Programs\\Python\\Python311\\Lib\\site-packages\\matplotlib\\axes\\_base.py:3194\u001b[0m, in \u001b[0;36m_AxesBase.grid\u001b[1;34m(self, visible, which, axis, **kwargs)\u001b[0m\n\u001b[0;32m   3192\u001b[0m _api\u001b[38;5;241m.\u001b[39mcheck_in_list([\u001b[38;5;124m'\u001b[39m\u001b[38;5;124mx\u001b[39m\u001b[38;5;124m'\u001b[39m, \u001b[38;5;124m'\u001b[39m\u001b[38;5;124my\u001b[39m\u001b[38;5;124m'\u001b[39m, \u001b[38;5;124m'\u001b[39m\u001b[38;5;124mboth\u001b[39m\u001b[38;5;124m'\u001b[39m], axis\u001b[38;5;241m=\u001b[39maxis)\n\u001b[0;32m   3193\u001b[0m \u001b[38;5;28;01mif\u001b[39;00m axis \u001b[38;5;129;01min\u001b[39;00m [\u001b[38;5;124m'\u001b[39m\u001b[38;5;124mx\u001b[39m\u001b[38;5;124m'\u001b[39m, \u001b[38;5;124m'\u001b[39m\u001b[38;5;124mboth\u001b[39m\u001b[38;5;124m'\u001b[39m]:\n\u001b[1;32m-> 3194\u001b[0m     \u001b[38;5;28;43mself\u001b[39;49m\u001b[38;5;241;43m.\u001b[39;49m\u001b[43mxaxis\u001b[49m\u001b[38;5;241;43m.\u001b[39;49m\u001b[43mgrid\u001b[49m\u001b[43m(\u001b[49m\u001b[43mvisible\u001b[49m\u001b[43m,\u001b[49m\u001b[43m \u001b[49m\u001b[43mwhich\u001b[49m\u001b[38;5;241;43m=\u001b[39;49m\u001b[43mwhich\u001b[49m\u001b[43m,\u001b[49m\u001b[43m \u001b[49m\u001b[38;5;241;43m*\u001b[39;49m\u001b[38;5;241;43m*\u001b[39;49m\u001b[43mkwargs\u001b[49m\u001b[43m)\u001b[49m\n\u001b[0;32m   3195\u001b[0m \u001b[38;5;28;01mif\u001b[39;00m axis \u001b[38;5;129;01min\u001b[39;00m [\u001b[38;5;124m'\u001b[39m\u001b[38;5;124my\u001b[39m\u001b[38;5;124m'\u001b[39m, \u001b[38;5;124m'\u001b[39m\u001b[38;5;124mboth\u001b[39m\u001b[38;5;124m'\u001b[39m]:\n\u001b[0;32m   3196\u001b[0m     \u001b[38;5;28mself\u001b[39m\u001b[38;5;241m.\u001b[39myaxis\u001b[38;5;241m.\u001b[39mgrid(visible, which\u001b[38;5;241m=\u001b[39mwhich, \u001b[38;5;241m*\u001b[39m\u001b[38;5;241m*\u001b[39mkwargs)\n",
      "File \u001b[1;32m~\\AppData\\Local\\Programs\\Python\\Python311\\Lib\\site-packages\\matplotlib\\axis.py:1660\u001b[0m, in \u001b[0;36mAxis.grid\u001b[1;34m(self, visible, which, **kwargs)\u001b[0m\n\u001b[0;32m   1657\u001b[0m \u001b[38;5;28;01mif\u001b[39;00m which \u001b[38;5;129;01min\u001b[39;00m [\u001b[38;5;124m'\u001b[39m\u001b[38;5;124mmajor\u001b[39m\u001b[38;5;124m'\u001b[39m, \u001b[38;5;124m'\u001b[39m\u001b[38;5;124mboth\u001b[39m\u001b[38;5;124m'\u001b[39m]:\n\u001b[0;32m   1658\u001b[0m     gridkw[\u001b[38;5;124m'\u001b[39m\u001b[38;5;124mgridOn\u001b[39m\u001b[38;5;124m'\u001b[39m] \u001b[38;5;241m=\u001b[39m (\u001b[38;5;129;01mnot\u001b[39;00m \u001b[38;5;28mself\u001b[39m\u001b[38;5;241m.\u001b[39m_major_tick_kw[\u001b[38;5;124m'\u001b[39m\u001b[38;5;124mgridOn\u001b[39m\u001b[38;5;124m'\u001b[39m]\n\u001b[0;32m   1659\u001b[0m                         \u001b[38;5;28;01mif\u001b[39;00m visible \u001b[38;5;129;01mis\u001b[39;00m \u001b[38;5;28;01mNone\u001b[39;00m \u001b[38;5;28;01melse\u001b[39;00m visible)\n\u001b[1;32m-> 1660\u001b[0m     \u001b[38;5;28;43mself\u001b[39;49m\u001b[38;5;241;43m.\u001b[39;49m\u001b[43mset_tick_params\u001b[49m\u001b[43m(\u001b[49m\u001b[43mwhich\u001b[49m\u001b[38;5;241;43m=\u001b[39;49m\u001b[38;5;124;43m'\u001b[39;49m\u001b[38;5;124;43mmajor\u001b[39;49m\u001b[38;5;124;43m'\u001b[39;49m\u001b[43m,\u001b[49m\u001b[43m \u001b[49m\u001b[38;5;241;43m*\u001b[39;49m\u001b[38;5;241;43m*\u001b[39;49m\u001b[43mgridkw\u001b[49m\u001b[43m)\u001b[49m\n\u001b[0;32m   1661\u001b[0m \u001b[38;5;28mself\u001b[39m\u001b[38;5;241m.\u001b[39mstale \u001b[38;5;241m=\u001b[39m \u001b[38;5;28;01mTrue\u001b[39;00m\n",
      "File \u001b[1;32m~\\AppData\\Local\\Programs\\Python\\Python311\\Lib\\site-packages\\matplotlib\\axis.py:932\u001b[0m, in \u001b[0;36mAxis.set_tick_params\u001b[1;34m(self, which, reset, **kwargs)\u001b[0m\n\u001b[0;32m    919\u001b[0m \u001b[38;5;250m\u001b[39m\u001b[38;5;124;03m\"\"\"\u001b[39;00m\n\u001b[0;32m    920\u001b[0m \u001b[38;5;124;03mSet appearance parameters for ticks, ticklabels, and gridlines.\u001b[39;00m\n\u001b[0;32m    921\u001b[0m \n\u001b[1;32m   (...)\u001b[0m\n\u001b[0;32m    929\u001b[0m \u001b[38;5;124;03m    gridlines.\u001b[39;00m\n\u001b[0;32m    930\u001b[0m \u001b[38;5;124;03m\"\"\"\u001b[39;00m\n\u001b[0;32m    931\u001b[0m _api\u001b[38;5;241m.\u001b[39mcheck_in_list([\u001b[38;5;124m'\u001b[39m\u001b[38;5;124mmajor\u001b[39m\u001b[38;5;124m'\u001b[39m, \u001b[38;5;124m'\u001b[39m\u001b[38;5;124mminor\u001b[39m\u001b[38;5;124m'\u001b[39m, \u001b[38;5;124m'\u001b[39m\u001b[38;5;124mboth\u001b[39m\u001b[38;5;124m'\u001b[39m], which\u001b[38;5;241m=\u001b[39mwhich)\n\u001b[1;32m--> 932\u001b[0m kwtrans \u001b[38;5;241m=\u001b[39m \u001b[38;5;28;43mself\u001b[39;49m\u001b[38;5;241;43m.\u001b[39;49m\u001b[43m_translate_tick_params\u001b[49m\u001b[43m(\u001b[49m\u001b[43mkwargs\u001b[49m\u001b[43m)\u001b[49m\n\u001b[0;32m    934\u001b[0m \u001b[38;5;66;03m# the kwargs are stored in self._major/minor_tick_kw so that any\u001b[39;00m\n\u001b[0;32m    935\u001b[0m \u001b[38;5;66;03m# future new ticks will automatically get them\u001b[39;00m\n\u001b[0;32m    936\u001b[0m \u001b[38;5;28;01mif\u001b[39;00m reset:\n",
      "File \u001b[1;32m~\\AppData\\Local\\Programs\\Python\\Python311\\Lib\\site-packages\\matplotlib\\axis.py:1076\u001b[0m, in \u001b[0;36mAxis._translate_tick_params\u001b[1;34m(kw, reverse)\u001b[0m\n\u001b[0;32m   1074\u001b[0m \u001b[38;5;28;01mfor\u001b[39;00m key \u001b[38;5;129;01min\u001b[39;00m kw_:\n\u001b[0;32m   1075\u001b[0m     \u001b[38;5;28;01mif\u001b[39;00m key \u001b[38;5;129;01mnot\u001b[39;00m \u001b[38;5;129;01min\u001b[39;00m allowed_keys:\n\u001b[1;32m-> 1076\u001b[0m         \u001b[38;5;28;01mraise\u001b[39;00m \u001b[38;5;167;01mValueError\u001b[39;00m(\n\u001b[0;32m   1077\u001b[0m             \u001b[38;5;124m\"\u001b[39m\u001b[38;5;124mkeyword \u001b[39m\u001b[38;5;132;01m%s\u001b[39;00m\u001b[38;5;124m is not recognized; valid keywords are \u001b[39m\u001b[38;5;132;01m%s\u001b[39;00m\u001b[38;5;124m\"\u001b[39m\n\u001b[0;32m   1078\u001b[0m             \u001b[38;5;241m%\u001b[39m (key, allowed_keys))\n\u001b[0;32m   1079\u001b[0m kwtrans\u001b[38;5;241m.\u001b[39mupdate(kw_)\n\u001b[0;32m   1080\u001b[0m \u001b[38;5;28;01mreturn\u001b[39;00m kwtrans\n",
      "\u001b[1;31mValueError\u001b[0m: keyword grid_b is not recognized; valid keywords are ['size', 'width', 'color', 'tickdir', 'pad', 'labelsize', 'labelcolor', 'zorder', 'gridOn', 'tick1On', 'tick2On', 'label1On', 'label2On', 'length', 'direction', 'left', 'bottom', 'right', 'top', 'labelleft', 'labelbottom', 'labelright', 'labeltop', 'labelrotation', 'grid_agg_filter', 'grid_alpha', 'grid_animated', 'grid_antialiased', 'grid_clip_box', 'grid_clip_on', 'grid_clip_path', 'grid_color', 'grid_dash_capstyle', 'grid_dash_joinstyle', 'grid_dashes', 'grid_data', 'grid_drawstyle', 'grid_figure', 'grid_fillstyle', 'grid_gapcolor', 'grid_gid', 'grid_in_layout', 'grid_label', 'grid_linestyle', 'grid_linewidth', 'grid_marker', 'grid_markeredgecolor', 'grid_markeredgewidth', 'grid_markerfacecolor', 'grid_markerfacecoloralt', 'grid_markersize', 'grid_markevery', 'grid_mouseover', 'grid_path_effects', 'grid_picker', 'grid_pickradius', 'grid_rasterized', 'grid_sketch_params', 'grid_snap', 'grid_solid_capstyle', 'grid_solid_joinstyle', 'grid_transform', 'grid_url', 'grid_visible', 'grid_xdata', 'grid_ydata', 'grid_zorder', 'grid_aa', 'grid_c', 'grid_ds', 'grid_ls', 'grid_lw', 'grid_mec', 'grid_mew', 'grid_mfc', 'grid_mfcalt', 'grid_ms']"
     ]
    },
    {
     "data": {
      "image/png": "[encoded data removed]",
      "text/plain": [
       "<Figure size 800x600 with 1 Axes>"
      ]
     },
     "metadata": {},
     "output_type": "display_data"
    }
   ],
   "source": [
    "import matplotlib.pyplot as plt\n",
    "from urllib.request import *\n",
    "from bs4 import *\n",
    "plt.style.use('dark_background')\n",
    "\n",
    "def stockprice(company_code,period):\n",
    "\n",
    "    pList = list()\n",
    "    DN = period\n",
    "    PN = DN // 20\n",
    "    if DN > PN * 20 :\n",
    "        PN += 1\n",
    "\n",
    "    for i in range(1,PN+1) :\n",
    "        url = 'http://finance.naver.com/item/frgn.nhn?code='+company_code+'&page=' + str(i)\n",
    "        req = Request(url)\n",
    "        req.add_header('User-Agent','Mozilla/5.0')\n",
    "        wp = urlopen(req)\n",
    "        soup = BeautifulSoup(wp, 'html.parser')\n",
    "        trList = soup.find_all('tr',{'onmouseover':'mouseOver(this)'})\n",
    "\n",
    "        for n in trList :\n",
    "            tdList = n.find_all('td')\n",
    "            price = tdList[1].get_text()\n",
    "            price = price.replace(',','')\n",
    "            pList.append(int(price))\n",
    "            \n",
    "    pList.reverse()\n",
    "    return pList\n",
    "\n",
    "if __name__ == \"__main__\": \n",
    "    period = 520                                               #input period\n",
    "    Pricedata = stockprice('005930',period)             #(company_code, period)\n",
    "    plt.figure(figsize = (8,6))\n",
    "    plt.plot(Pricedata[-1*period:])\n",
    "    plt.xlabel('Day')\n",
    "    plt.ylabel('Price')\n",
    "    plt.grid(b=True, color='DarkTurquoise', alpha=0.3, linestyle=':', linewidth=2)"
   ]
  },
  {
   "cell_type": "code",
   "execution_count": 10,
   "id": "efe98f85",
   "metadata": {},
   "outputs": [],
   "source": [
    "import pandas as pd\n",
    "from urllib.request import Request, urlopen\n",
    "from bs4 import BeautifulSoup\n",
    "\n",
    "def stockprice(company_code, period):\n",
    "    pList = list()\n",
    "    dateList = list()\n",
    "    DN = period\n",
    "    PN = DN // 20\n",
    "    if DN > PN * 20:\n",
    "        PN += 1\n",
    "\n",
    "    for i in range(1, PN+1):\n",
    "        url = f'http://finance.naver.com/item/frgn.nhn?code={company_code}&page={i}'\n",
    "        req = Request(url)\n",
    "        req.add_header('User-Agent', 'Mozilla/5.0')\n",
    "        wp = urlopen(req)\n",
    "        soup = BeautifulSoup(wp, 'html.parser')\n",
    "        trList = soup.find_all('tr', {'onmouseover': 'mouseOver(this)'})\n",
    "\n",
    "        for n in trList:\n",
    "            tdList = n.find_all('td')\n",
    "            date = tdList[0].get_text()\n",
    "            price = tdList[1].get_text()\n",
    "            price = price.replace(',', '')\n",
    "            dateList.append(date)\n",
    "            pList.append(int(price))\n",
    "\n",
    "    dateList.reverse()\n",
    "    pList.reverse()\n",
    "\n",
    "    # 데이터프레임 생성\n",
    "    df = pd.DataFrame({\n",
    "        'Date': dateList,\n",
    "        'Price': pList\n",
    "    })\n",
    "\n",
    "    # 엑셀로 저장\n",
    "    df.to_excel(\"samsung_stock_price.xlsx\", index=False)\n",
    "\n",
    "if __name__ == \"__main__\":\n",
    "    period = 500  # 원하는 기간 설정\n",
    "    stockprice('005930', period)  # (회사 코드, 기간)"
   ]
  },
  {
   "cell_type": "code",
   "execution_count": 12,
   "id": "17f5ce5e",
   "metadata": {},
   "outputs": [],
   "source": [
    "def get_krx_code(market=None):\n",
    "    market_type = ''\n",
    "    if market == 'kospi':\n",
    "        market_type = '&marketType=stockMkt'\n",
    "    elif market == 'kosdaq':\n",
    "        market_type = '&marketType=kosdaqMkt'\n",
    "    elif market == 'konex':\n",
    "        market_type = '&marketType=konexMkt'\n",
    "        \n",
    "    url = 'http://kind.krx.co.kr/corpgeneral/corpList.do?method=download&searchType=13{0}'.format(market_type)\n",
    "    stock_code = pd.read_html(url, header = 0)[0]\n",
    "    stock_code['종목코드'] = stock_code['종목코드'].map('{:06d}'.format)\n",
    "    stock_code = stock_code[['회사명', '종목코드', '업종', '상장일']]\n",
    "    stock_code = stock_code.rename(columns = {'회사명': 'name', '종목코드': 'code', '업종': 'sectors',\n",
    "                                              '상장일': 'listing_date'})\n",
    "    stock_code['listing_date'] = pd.to_datetime(stock_code['listing_date'])\n",
    "    \n",
    "    return stock_code"
   ]
  },
  {
   "cell_type": "code",
   "execution_count": 13,
   "id": "c44a0a7b",
   "metadata": {},
   "outputs": [],
   "source": [
    "def get_stock_price(code, num_of_pages, sort_date = True):\n",
    "    url = f\"http://finance.naver.com/item/sise_day.nhn?code={code}\"\n",
    "    headers = {'User-agent': 'Mozilla/5.0'} \n",
    "    bs = BeautifulSoup(requests.get(url=url, headers = headers).text, 'html.parser')\n",
    "    pgrr = bs.find(\"td\", class_=\"pgRR\")\n",
    "    last_page = int(pgrr.a[\"href\"].split('=')[-1])\n",
    "    \n",
    "    pages = min(last_page, num_of_pages) # 마지막 페이지와 가져올 페이지 수 중에 작은 값 선택\n",
    "    df = pd.DataFrame()\n",
    "\n",
    "    for page in range(1, pages+1):\n",
    "        page_url = '{}&page={}'.format(url, page)\n",
    "        df = df.append(pd.read_html(requests.get(page_url, headers={'User-agent': 'Mozilla/5.0'}).text)[0])\n",
    "        \n",
    "    df = df.rename(columns={'날짜':'date','종가':'close','전일비':'diff'\n",
    "                ,'시가':'open','고가':'high','저가':'low','거래량':'volume'}) #영문으로 컬럼명 변경\n",
    "    df['date'] = pd.to_datetime(df['date']) \n",
    "    df = df.dropna()\n",
    "    df[['close', 'diff', 'open', 'high', 'low', 'volume']] = \\\n",
    "                            df[['close','diff', 'open', 'high', 'low', 'volume']].astype(int) # int형으로 변경\n",
    "    df = df[['date', 'open', 'high', 'low', 'close', 'diff', 'volume']] # 컬럼 순서 정렬\n",
    "    df = df.sort_values(by = 'date') # 날짜순으로 정렬\n",
    "    \n",
    "    if sort_date:\n",
    "        df = df.reset_index(drop = True)\n",
    "    \n",
    "    return df"
   ]
  },
  {
   "cell_type": "code",
   "execution_count": 14,
   "id": "fddced55",
   "metadata": {},
   "outputs": [],
   "source": [
    "item_name = '삼성전자'\n",
    "stock = get_krx_code().query(\"name=='{}'\".format(item_name))['code'].to_string(index=False) "
   ]
  },
  {
   "cell_type": "code",
   "execution_count": 15,
   "id": "8acd89fb",
   "metadata": {},
   "outputs": [
    {
     "ename": "AttributeError",
     "evalue": "'DataFrame' object has no attribute 'append'",
     "output_type": "error",
     "traceback": [
      "\u001b[1;31m---------------------------------------------------------------------------\u001b[0m",
      "\u001b[1;31mAttributeError\u001b[0m                            Traceback (most recent call last)",
      "Cell \u001b[1;32mIn[15], line 1\u001b[0m\n\u001b[1;32m----> 1\u001b[0m df \u001b[38;5;241m=\u001b[39m \u001b[43mget_stock_price\u001b[49m\u001b[43m(\u001b[49m\u001b[43mstock\u001b[49m\u001b[43m,\u001b[49m\u001b[43m \u001b[49m\u001b[38;5;241;43m10\u001b[39;49m\u001b[43m)\u001b[49m\n\u001b[0;32m      2\u001b[0m df\u001b[38;5;241m.\u001b[39mhead()\n",
      "Cell \u001b[1;32mIn[13], line 13\u001b[0m, in \u001b[0;36mget_stock_price\u001b[1;34m(code, num_of_pages, sort_date)\u001b[0m\n\u001b[0;32m     11\u001b[0m \u001b[38;5;28;01mfor\u001b[39;00m page \u001b[38;5;129;01min\u001b[39;00m \u001b[38;5;28mrange\u001b[39m(\u001b[38;5;241m1\u001b[39m, pages\u001b[38;5;241m+\u001b[39m\u001b[38;5;241m1\u001b[39m):\n\u001b[0;32m     12\u001b[0m     page_url \u001b[38;5;241m=\u001b[39m \u001b[38;5;124m'\u001b[39m\u001b[38;5;132;01m{}\u001b[39;00m\u001b[38;5;124m&page=\u001b[39m\u001b[38;5;132;01m{}\u001b[39;00m\u001b[38;5;124m'\u001b[39m\u001b[38;5;241m.\u001b[39mformat(url, page)\n\u001b[1;32m---> 13\u001b[0m     df \u001b[38;5;241m=\u001b[39m \u001b[43mdf\u001b[49m\u001b[38;5;241;43m.\u001b[39;49m\u001b[43mappend\u001b[49m(pd\u001b[38;5;241m.\u001b[39mread_html(requests\u001b[38;5;241m.\u001b[39mget(page_url, headers\u001b[38;5;241m=\u001b[39m{\u001b[38;5;124m'\u001b[39m\u001b[38;5;124mUser-agent\u001b[39m\u001b[38;5;124m'\u001b[39m: \u001b[38;5;124m'\u001b[39m\u001b[38;5;124mMozilla/5.0\u001b[39m\u001b[38;5;124m'\u001b[39m})\u001b[38;5;241m.\u001b[39mtext)[\u001b[38;5;241m0\u001b[39m])\n\u001b[0;32m     15\u001b[0m df \u001b[38;5;241m=\u001b[39m df\u001b[38;5;241m.\u001b[39mrename(columns\u001b[38;5;241m=\u001b[39m{\u001b[38;5;124m'\u001b[39m\u001b[38;5;124m날짜\u001b[39m\u001b[38;5;124m'\u001b[39m:\u001b[38;5;124m'\u001b[39m\u001b[38;5;124mdate\u001b[39m\u001b[38;5;124m'\u001b[39m,\u001b[38;5;124m'\u001b[39m\u001b[38;5;124m종가\u001b[39m\u001b[38;5;124m'\u001b[39m:\u001b[38;5;124m'\u001b[39m\u001b[38;5;124mclose\u001b[39m\u001b[38;5;124m'\u001b[39m,\u001b[38;5;124m'\u001b[39m\u001b[38;5;124m전일비\u001b[39m\u001b[38;5;124m'\u001b[39m:\u001b[38;5;124m'\u001b[39m\u001b[38;5;124mdiff\u001b[39m\u001b[38;5;124m'\u001b[39m\n\u001b[0;32m     16\u001b[0m             ,\u001b[38;5;124m'\u001b[39m\u001b[38;5;124m시가\u001b[39m\u001b[38;5;124m'\u001b[39m:\u001b[38;5;124m'\u001b[39m\u001b[38;5;124mopen\u001b[39m\u001b[38;5;124m'\u001b[39m,\u001b[38;5;124m'\u001b[39m\u001b[38;5;124m고가\u001b[39m\u001b[38;5;124m'\u001b[39m:\u001b[38;5;124m'\u001b[39m\u001b[38;5;124mhigh\u001b[39m\u001b[38;5;124m'\u001b[39m,\u001b[38;5;124m'\u001b[39m\u001b[38;5;124m저가\u001b[39m\u001b[38;5;124m'\u001b[39m:\u001b[38;5;124m'\u001b[39m\u001b[38;5;124mlow\u001b[39m\u001b[38;5;124m'\u001b[39m,\u001b[38;5;124m'\u001b[39m\u001b[38;5;124m거래량\u001b[39m\u001b[38;5;124m'\u001b[39m:\u001b[38;5;124m'\u001b[39m\u001b[38;5;124mvolume\u001b[39m\u001b[38;5;124m'\u001b[39m}) \u001b[38;5;66;03m#영문으로 컬럼명 변경\u001b[39;00m\n\u001b[0;32m     17\u001b[0m df[\u001b[38;5;124m'\u001b[39m\u001b[38;5;124mdate\u001b[39m\u001b[38;5;124m'\u001b[39m] \u001b[38;5;241m=\u001b[39m pd\u001b[38;5;241m.\u001b[39mto_datetime(df[\u001b[38;5;124m'\u001b[39m\u001b[38;5;124mdate\u001b[39m\u001b[38;5;124m'\u001b[39m]) \n",
      "File \u001b[1;32m~\\AppData\\Local\\Programs\\Python\\Python311\\Lib\\site-packages\\pandas\\core\\generic.py:5989\u001b[0m, in \u001b[0;36mNDFrame.__getattr__\u001b[1;34m(self, name)\u001b[0m\n\u001b[0;32m   5982\u001b[0m \u001b[38;5;28;01mif\u001b[39;00m (\n\u001b[0;32m   5983\u001b[0m     name \u001b[38;5;129;01mnot\u001b[39;00m \u001b[38;5;129;01min\u001b[39;00m \u001b[38;5;28mself\u001b[39m\u001b[38;5;241m.\u001b[39m_internal_names_set\n\u001b[0;32m   5984\u001b[0m     \u001b[38;5;129;01mand\u001b[39;00m name \u001b[38;5;129;01mnot\u001b[39;00m \u001b[38;5;129;01min\u001b[39;00m \u001b[38;5;28mself\u001b[39m\u001b[38;5;241m.\u001b[39m_metadata\n\u001b[0;32m   5985\u001b[0m     \u001b[38;5;129;01mand\u001b[39;00m name \u001b[38;5;129;01mnot\u001b[39;00m \u001b[38;5;129;01min\u001b[39;00m \u001b[38;5;28mself\u001b[39m\u001b[38;5;241m.\u001b[39m_accessors\n\u001b[0;32m   5986\u001b[0m     \u001b[38;5;129;01mand\u001b[39;00m \u001b[38;5;28mself\u001b[39m\u001b[38;5;241m.\u001b[39m_info_axis\u001b[38;5;241m.\u001b[39m_can_hold_identifiers_and_holds_name(name)\n\u001b[0;32m   5987\u001b[0m ):\n\u001b[0;32m   5988\u001b[0m     \u001b[38;5;28;01mreturn\u001b[39;00m \u001b[38;5;28mself\u001b[39m[name]\n\u001b[1;32m-> 5989\u001b[0m \u001b[38;5;28;01mreturn\u001b[39;00m \u001b[38;5;28;43mobject\u001b[39;49m\u001b[38;5;241;43m.\u001b[39;49m\u001b[38;5;21;43m__getattribute__\u001b[39;49m\u001b[43m(\u001b[49m\u001b[38;5;28;43mself\u001b[39;49m\u001b[43m,\u001b[49m\u001b[43m \u001b[49m\u001b[43mname\u001b[49m\u001b[43m)\u001b[49m\n",
      "\u001b[1;31mAttributeError\u001b[0m: 'DataFrame' object has no attribute 'append'"
     ]
    }
   ],
   "source": [
    "df = get_stock_price(stock, 10)\n",
    "df.head()"
   ]
  },
  {
   "cell_type": "code",
   "execution_count": 21,
   "id": "be566a1e",
   "metadata": {},
   "outputs": [
    {
     "name": "stdout",
     "output_type": "stream",
     "text": [
      "종목명을 입력하세요: 삼성전자\n",
      "종목코드를 찾을 수 없습니다.\n",
      "삼성전자의 종목코드를 찾을 수 없습니다.\n"
     ]
    }
   ],
   "source": [
    "from urllib.request import Request, urlopen\n",
    "from urllib.parse import quote\n",
    "from bs4 import BeautifulSoup\n",
    "import re  # 정규 표현식을 사용하기 위한 모듈\n",
    "\n",
    "def find_stock_code(company_name):\n",
    "    try:\n",
    "        # 네이버 금융 검색 URL 설정\n",
    "        base_url = 'https://finance.naver.com/search/searchList.naver?query='\n",
    "        query = quote(company_name)  # URL 인코딩\n",
    "        search_url = f\"{base_url}{query}\"\n",
    "        \n",
    "        # HTML 페이지 요청 및 수신\n",
    "        req = Request(search_url)\n",
    "        req.add_header('User-Agent', 'Mozilla/5.0')\n",
    "        wp = urlopen(req)\n",
    "        \n",
    "        # BeautifulSoup 객체 생성\n",
    "        soup = BeautifulSoup(wp, 'html.parser')\n",
    "        \n",
    "        # HTML 파싱: a 태그 중에서 첫 번째 것을 찾습니다.\n",
    "        tag = soup.find('a', href=re.compile(\"^/item/main.naver?code=\"))\n",
    "        \n",
    "        # 종목코드 추출\n",
    "        if tag:\n",
    "            href = tag['href']\n",
    "            code = re.search(r'code=([0-9]+)', href).group(1)  # 정규 표현식으로 code 파라미터 추출\n",
    "            return code\n",
    "        else:\n",
    "            print(\"종목코드를 찾을 수 없습니다.\")\n",
    "            return None  # 종목코드를 찾을 수 없을 경우 None 반환\n",
    "    except Exception as e:\n",
    "        print(f\"오류가 발생했습니다: {e}\")\n",
    "        return None\n",
    "\n",
    "# 사용자로부터 종목명을 입력받습니다.\n",
    "company_name = input(\"종목명을 입력하세요: \")\n",
    "\n",
    "# 종목코드를 찾습니다.\n",
    "company_code = find_stock_code(company_name)\n",
    "\n",
    "# 결과를 출력합니다.\n",
    "if company_code:\n",
    "    print(f\"{company_name}의 종목코드는 {company_code}입니다.\")\n",
    "else:\n",
    "    print(f\"{company_name}의 종목코드를 찾을 수 없습니다.\")"
   ]
  },
  {
   "cell_type": "code",
   "execution_count": 22,
   "id": "a0c6d505",
   "metadata": {},
   "outputs": [
    {
     "name": "stdout",
     "output_type": "stream",
     "text": [
      "%EC%82%BC%EC%84%B1%EC%A0%84%EC%9E%90\n"
     ]
    }
   ],
   "source": [
    "from urllib.parse import quote\n",
    "\n",
    "print(quote('삼성전자'))"
   ]
  },
  {
   "cell_type": "code",
   "execution_count": 26,
   "id": "bf0a090b",
   "metadata": {},
   "outputs": [
    {
     "name": "stdout",
     "output_type": "stream",
     "text": [
      "종목명을 입력하세요: 삼성전자\n",
      "삼성전자의 종목코드는 @code@입니다.\n"
     ]
    }
   ],
   "source": [
    "from urllib.request import Request, urlopen\n",
    "from urllib.parse import quote\n",
    "from bs4 import BeautifulSoup\n",
    "import re  # 정규 표현식을 사용하기 위한 모듈\n",
    "\n",
    "def find_stock_code(company_name):\n",
    "    # 네이버 금융 검색 URL 설정\n",
    "    base_url = 'https://finance.naver.com/search/searchList.naver?query='\n",
    "    query = quote(company_name, encoding='euc-kr')  # EUC-KR로 URL 인코딩\n",
    "    search_url = f\"{base_url}{query}\"\n",
    "    \n",
    "    # HTML 페이지 요청 및 수신\n",
    "    req = Request(search_url)\n",
    "    req.add_header('User-Agent', 'Mozilla/5.0')\n",
    "    wp = urlopen(req)\n",
    "    \n",
    "    # BeautifulSoup 객체 생성\n",
    "    soup = BeautifulSoup(wp, 'html.parser')\n",
    "\n",
    "    # HTML 파싱: <span> 태그 중에서 클래스 이름이 'num _au_real_list'인 것을 찾습니다.\n",
    "    span_tag = soup.find('span', {'class': 'num _au_real_list'})\n",
    "\n",
    "    # 종목코드 추출\n",
    "    if span_tag:\n",
    "        code = span_tag.text  # <span> 태그 안의 텍스트를 가져옵니다.\n",
    "        return code\n",
    "    else:\n",
    "        return None  # 종목코드를 찾을 수 없을 경우 None 반환\n",
    "\n",
    "# 사용자로부터 종목명을 입력받습니다.\n",
    "company_name = input(\"종목명을 입력하세요: \")\n",
    "\n",
    "# 종목코드를 찾습니다.\n",
    "company_code = find_stock_code(company_name)\n",
    "\n",
    "# 결과를 출력합니다.\n",
    "if company_code:\n",
    "    print(f\"{company_name}의 종목코드는 {company_code}입니다.\")\n",
    "else:\n",
    "    print(f\"{company_name}의 종목코드를 찾을 수 없습니다.\")"
   ]
  },
  {
   "cell_type": "code",
   "execution_count": 24,
   "id": "340116f5",
   "metadata": {},
   "outputs": [
    {
     "name": "stdout",
     "output_type": "stream",
     "text": [
      "Requirement already satisfied: selenium in c:\\users\\zkzk7\\appdata\\local\\programs\\python\\python311\\lib\\site-packages (4.9.1)\n",
      "Requirement already satisfied: urllib3[socks]<3,>=1.26 in c:\\users\\zkzk7\\appdata\\local\\programs\\python\\python311\\lib\\site-packages (from selenium) (1.26.16)\n",
      "Requirement already satisfied: trio~=0.17 in c:\\users\\zkzk7\\appdata\\local\\programs\\python\\python311\\lib\\site-packages (from selenium) (0.22.0)\n",
      "Requirement already satisfied: trio-websocket~=0.9 in c:\\users\\zkzk7\\appdata\\local\\programs\\python\\python311\\lib\\site-packages (from selenium) (0.10.2)\n",
      "Requirement already satisfied: certifi>=2021.10.8 in c:\\users\\zkzk7\\appdata\\local\\programs\\python\\python311\\lib\\site-packages (from selenium) (2023.5.7)\n",
      "Requirement already satisfied: attrs>=19.2.0 in c:\\users\\zkzk7\\appdata\\local\\programs\\python\\python311\\lib\\site-packages (from trio~=0.17->selenium) (23.1.0)\n",
      "Requirement already satisfied: sortedcontainers in c:\\users\\zkzk7\\appdata\\local\\programs\\python\\python311\\lib\\site-packages (from trio~=0.17->selenium) (2.4.0)\n",
      "Requirement already satisfied: async-generator>=1.9 in c:\\users\\zkzk7\\appdata\\local\\programs\\python\\python311\\lib\\site-packages (from trio~=0.17->selenium) (1.10)\n",
      "Requirement already satisfied: idna in c:\\users\\zkzk7\\appdata\\local\\programs\\python\\python311\\lib\\site-packages (from trio~=0.17->selenium) (3.4)\n",
      "Requirement already satisfied: outcome in c:\\users\\zkzk7\\appdata\\local\\programs\\python\\python311\\lib\\site-packages (from trio~=0.17->selenium) (1.2.0)\n",
      "Requirement already satisfied: sniffio in c:\\users\\zkzk7\\appdata\\local\\programs\\python\\python311\\lib\\site-packages (from trio~=0.17->selenium) (1.3.0)\n",
      "Requirement already satisfied: cffi>=1.14 in c:\\users\\zkzk7\\appdata\\local\\programs\\python\\python311\\lib\\site-packages (from trio~=0.17->selenium) (1.15.1)\n",
      "Requirement already satisfied: exceptiongroup in c:\\users\\zkzk7\\appdata\\local\\programs\\python\\python311\\lib\\site-packages (from trio-websocket~=0.9->selenium) (1.1.1)\n",
      "Requirement already satisfied: wsproto>=0.14 in c:\\users\\zkzk7\\appdata\\local\\programs\\python\\python311\\lib\\site-packages (from trio-websocket~=0.9->selenium) (1.2.0)\n",
      "Requirement already satisfied: PySocks!=1.5.7,<2.0,>=1.5.6 in c:\\users\\zkzk7\\appdata\\local\\programs\\python\\python311\\lib\\site-packages (from urllib3[socks]<3,>=1.26->selenium) (1.7.1)\n",
      "Requirement already satisfied: pycparser in c:\\users\\zkzk7\\appdata\\local\\programs\\python\\python311\\lib\\site-packages (from cffi>=1.14->trio~=0.17->selenium) (2.21)\n",
      "Requirement already satisfied: h11<1,>=0.9.0 in c:\\users\\zkzk7\\appdata\\local\\programs\\python\\python311\\lib\\site-packages (from wsproto>=0.14->trio-websocket~=0.9->selenium) (0.14.0)\n",
      "Note: you may need to restart the kernel to use updated packages.\n"
     ]
    },
    {
     "name": "stderr",
     "output_type": "stream",
     "text": [
      "\n",
      "[notice] A new release of pip available: 22.3.1 -> 23.3.1\n",
      "[notice] To update, run: python.exe -m pip install --upgrade pip\n"
     ]
    }
   ],
   "source": [
    "pip install selenium"
   ]
  },
  {
   "cell_type": "code",
   "execution_count": null,
   "id": "13c28e29",
   "metadata": {},
   "outputs": [],
   "source": [
    "from selenium import webdriver\n",
    "from selenium.webdriver.common.keys import Keys\n",
    "import time\n",
    "import re\n",
    "\n",
    "def find_stock_code_using_selenium(company_name):\n",
    "    # WebDriver 객체 생성\n",
    "    driver = webdriver.Chrome(executable_path='[여기에 chromedriver의 경로를 적어주세요]')\n",
    "    \n",
    "    # 네이버 금융 페이지 열기\n",
    "    driver.get('https://finance.naver.com/')\n",
    "    \n",
    "    # 검색창 WebElement 객체 가져오기\n",
    "    search_box = driver.find_element_by_id('stock_items')\n",
    "    \n",
    "    # 검색창에 회사 이름 입력\n",
    "    search_box.send_keys(company_name)\n",
    "    \n",
    "    # 검색 결과가 나올 때까지 잠시 대기\n",
    "    time.sleep(1)\n",
    "    \n",
    "    # 자동완성 목록에서 첫 번째 결과 WebElement 객체 가져오기\n",
    "    first_result = driver.find_element_by_xpath('//*[@id=\"atcmp\"]/div[1]/div/ul/li[1]/a/span[1]')\n",
    "    \n",
    "    # WebElement 객체에서 종목코드 추출\n",
    "    link = first_result.get_attribute('onclick')\n",
    "    code = re.search(r'\\'([0-9]+)\\'', link).group(1)\n",
    "    \n",
    "    # WebDriver 종료\n",
    "    driver.quit()\n",
    "    \n",
    "    return code\n",
    "\n",
    "# 사용자로부터 종목명을 입력받습니다.\n",
    "company_name = input(\"종목명을 입력하세요: \")\n",
    "\n",
    "# 종목코드를 찾습니다.\n",
    "company_code = find_stock_code_using_selenium(company_name)\n",
    "\n",
    "# 결과를 출력합니다.\n",
    "if company_code:\n",
    "    print(f\"{company_name}의 종목코드는 {company_code}입니다.\")\n",
    "else:\n",
    "    print(f\"{company_name}의 종목코드를 찾을 수 없습니다.\")\n"
   ]
  }
 ],
 "metadata": {
  "kernelspec": {
   "display_name": "Python 3 (ipykernel)",
   "language": "python",
   "name": "python3"
  },
  "language_info": {
   "codemirror_mode": {
    "name": "ipython",
    "version": 3
   },
   "file_extension": ".py",
   "mimetype": "text/x-python",
   "name": "python",
   "nbconvert_exporter": "python",
   "pygments_lexer": "ipython3",
   "version": "3.11.2"
  }
 },
 "nbformat": 4,
 "nbformat_minor": 5
}
